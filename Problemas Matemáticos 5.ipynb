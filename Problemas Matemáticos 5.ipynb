{
  "nbformat": 4,
  "nbformat_minor": 0,
  "metadata": {
    "colab": {
      "provenance": [],
      "collapsed_sections": [],
      "authorship_tag": "ABX9TyP5rUNmKp9vV8fro9lb4YYa",
      "include_colab_link": true
    },
    "kernelspec": {
      "name": "python3",
      "display_name": "Python 3"
    },
    "language_info": {
      "name": "python"
    }
  },
  "cells": [
    {
      "cell_type": "markdown",
      "metadata": {
        "id": "view-in-github",
        "colab_type": "text"
      },
      "source": [
        "<a href=\"https://colab.research.google.com/github/dantebarross/neuroscience/blob/main/Exerc%C3%ADcios_Programa%C3%A7%C3%A3o_em_Neuroci%C3%AAncia_5.ipynb\" target=\"_parent\"><img src=\"https://colab.research.google.com/assets/colab-badge.svg\" alt=\"Open In Colab\"/></a>"
      ]
    },
    {
      "cell_type": "markdown",
      "source": [
        "# Reverso"
      ],
      "metadata": {
        "id": "cGIXuqHlgUx1"
      }
    },
    {
      "cell_type": "markdown",
      "source": [
        "Escreva um programa que receba uma sequência de palavras e as imprima em ordem inversa.\n",
        "\n",
        "Entrada:\n",
        "- A primeira linha da entrada consiste de um número inteiro N representando o número de palavras que serão fornecidas. As próximas N linhas consistem de uma única palavra por linha.\n",
        "\n",
        "Saída:\n",
        "- A saída do seu programa deve consistir de N linhas, onde cada linha consiste de uma única palavra.\n",
        "\n",
        "Exemplos:\n",
        "- 5 ABBA ACDC Metallica Iron LadyBaby -> LadyBaby Iron Metallica ACDC ABBA"
      ],
      "metadata": {
        "id": "-mrg04r3gXxU"
      }
    },
    {
      "cell_type": "code",
      "execution_count": null,
      "metadata": {
        "id": "uKAI4xbegP9h"
      },
      "outputs": [],
      "source": [
        "numero_de_entradas = int(input())\n",
        "lista_de_strings = []\n",
        "\n",
        "for i in range(numero_de_entradas):\n",
        "  lista_de_strings.append(input())\n",
        "\n",
        "for string in lista_de_strings[::-1]:\n",
        "  print(string)"
      ]
    },
    {
      "cell_type": "markdown",
      "source": [
        "# Vizinhos iguais"
      ],
      "metadata": {
        "id": "m5rQvwaMhGss"
      }
    },
    {
      "cell_type": "markdown",
      "source": [
        "Desenvolva um programa com as seguintes funções:\n",
        "\n",
        "a. uma função que preenche um vetor com N valores inteiros informados pelo usuário e devolve este vetor. A variável N deve ser recebida como parâmetro da função.\n",
        "\n",
        "b. uma função que recebe um vetor por argumento e verifica se há vizinhos consecutivos iguais. A função deve imprimir os índices das posições de todos os vizinhos repetidos (veja os exemplos de entrada e saída).\n",
        "\n",
        "Seu programa deve ler o número N, chamar a função do item (a) e em seguida a função do item (b).\n",
        "\n",
        "Entrada:\n",
        "- Contém um número inteiro N positivo seguido de N valores inteiros.\n",
        "\n",
        "Saída:\n",
        "- Índices do vetor com vizinhos contendo o mesmo valor.\n",
        "\n",
        "Exemplos:\n",
        "8 1 5 7 8 8 9 9 0 -> Pos 3 e 4 Pos 5 e 6\n",
        "3 9 9 9 -> Pos 0 e 1 Pos 1 e 2"
      ],
      "metadata": {
        "id": "DoOeXh-1hH6b"
      }
    },
    {
      "cell_type": "code",
      "source": [
        "def criando_vetor_de_N_numeros(N):\n",
        "  vetor = []\n",
        "  for i in range(N):\n",
        "    vetor.append(int(input()))\n",
        "  return vetor\n",
        "\n",
        "def verificando_vetor_vizinhos_iguais(vetor):\n",
        "  lista_de_vizinhos = []\n",
        "  for index, numero in enumerate(vetor):\n",
        "    if index == 0: pass\n",
        "    else:\n",
        "      if numero == vetor[index-1]: # numero e seu anterior\n",
        "        index_do_primeiro_vizinho = index - 1\n",
        "        index_do_segundo_vizinho = index\n",
        "        lista_de_vizinhos.append(('Pos ' + str(index_do_primeiro_vizinho) + ' e ' + str(index_do_segundo_vizinho)))\n",
        "  return lista_de_vizinhos\n",
        "\n",
        "\n",
        "\n",
        "\n",
        "N = int(input())\n",
        "vetor_de_numeros = criando_vetor_de_N_numeros(N)\n",
        "vizinhos = verificando_vetor_vizinhos_iguais(vetor_de_numeros)\n",
        "\n",
        "if vizinhos:\n",
        "  for vizinho in vizinhos:\n",
        "    print(vizinho)\n",
        "else: print('')\n",
        "\n"
      ],
      "metadata": {
        "colab": {
          "base_uri": "https://localhost:8080/"
        },
        "id": "WWhTg3R2hQ0D",
        "outputId": "cf4d26f1-bd99-45b5-ab77-57650f90496a"
      },
      "execution_count": null,
      "outputs": [
        {
          "output_type": "stream",
          "name": "stdout",
          "text": [
            "3\n",
            "9\n",
            "9\n",
            "9\n",
            "Pos 0 e 1\n",
            "Pos 1 e 2\n",
            "\n",
            "\n"
          ]
        }
      ]
    },
    {
      "cell_type": "markdown",
      "source": [
        "# Elementos Comuns"
      ],
      "metadata": {
        "id": "CBl7s29rlBrl"
      }
    },
    {
      "cell_type": "markdown",
      "source": [
        "Escreva um programa que leia dois vetores com N inteiros cada. Em seguida, verifique quais elementos do segundo vetor são iguais a algum elemento do primeiro vetor. Se não houver elementos comuns, o programa deve informar isso.\n",
        "\n",
        "Entrada:\n",
        "- Cada caso de teste é composto por duas linhas, cada uma contendo uma cadeia de N inteiros. Os valores devem ser separados por um espaço em branco. Não é necessário que as duas cadeias tenham o mesmo número de elementos.\n",
        "\n",
        "Saída:\n",
        "- Na saída devem ser impressos todos os elementos comuns entre os dois vetores, sendo cada elemento em uma linha diferente. Entretanto, se houver algum elemento que apareça mais de uma vez no segundo vetor, o mesmo deve ser impresso apenas uma vez. Se um elemento aparecer mais de uma vez no primeiro vetor, o mesmo pode ser impresso mais de uma vez. Caso não haja nenhum elemento em comum, a seguinte mensagem deverá ser exibida: NENHUM ELEMENTO EM COMUM."
      ],
      "metadata": {
        "id": "Bti6tVOQlEGE"
      }
    },
    {
      "cell_type": "markdown",
      "source": [
        "Exemplos:\n",
        "- 1 2 3 4 5; 2 7 6 10 3 -> 2; 3\n",
        "- 1 5 7 5; 4 5 3 8 1 10 1 -> 1; 5; 5"
      ],
      "metadata": {
        "id": "Opo1vpNFlG1M"
      }
    },
    {
      "cell_type": "code",
      "source": [
        "def gerando_lista_de_numeros(lista_de_strings):\n",
        "  lista_de_numeros = []\n",
        "  numero = ''\n",
        "  for element in (lista_de_strings + ' '): \n",
        "    if element != ' ':\n",
        "      numero += element\n",
        "    else:\n",
        "      lista_de_numeros.append(int(numero))\n",
        "      numero = ''\n",
        "\n",
        "  return lista_de_numeros\n",
        "\n",
        "primeiro_vetor = gerando_lista_de_numeros(input())\n",
        "segundo_vetor = gerando_lista_de_numeros(input())\n",
        "\n",
        "\n",
        "interseccao = []\n",
        "for number in primeiro_vetor:\n",
        "  if number in segundo_vetor:\n",
        "    print(number)\n",
        "    interseccao.append(number)\n",
        "\n",
        "if interseccao == []:\n",
        "  print('NENHUM ELEMENTO EM COMUM')"
      ],
      "metadata": {
        "colab": {
          "base_uri": "https://localhost:8080/"
        },
        "id": "yrP4N4GGlOm9",
        "outputId": "c0097c62-3e38-4c4a-cb62-90c7eb3b0466"
      },
      "execution_count": null,
      "outputs": [
        {
          "output_type": "stream",
          "name": "stdout",
          "text": [
            "1 5 7 5\n",
            "4 5 3 8 1 10 1\n",
            "1\n",
            "5\n",
            "5\n"
          ]
        }
      ]
    },
    {
      "cell_type": "markdown",
      "source": [
        "# Distância Euclidiana"
      ],
      "metadata": {
        "id": "JQhU0xVQtma0"
      }
    },
    {
      "cell_type": "markdown",
      "source": [
        "Crie um programa que leia dois vetores de números reais representando pontos no espaço n-dimensional e devolva a distância euclidiana entre os pontos.\n",
        "\n",
        "Entrada:\n",
        "- A entrada contém duas linhas, sendo que cada linha contém uma lista de números reais separados por espaço.\n",
        "\n",
        "Saída:\n",
        "- O programa deve imprimir a distância euclidiana com 2 casas após a vírgula. Caso as listas tenham comprimentos diferentes, o programa deve imprimir ERRO."
      ],
      "metadata": {
        "id": "5It0LbZ2tn37"
      }
    },
    {
      "cell_type": "code",
      "source": [
        "import math\n",
        "\n",
        "def gerando_lista_de_numeros(lista_de_strings):\n",
        "  lista_de_numeros = []\n",
        "  numero = ''\n",
        "  for element in (lista_de_strings + ' '): \n",
        "    if element != ' ':\n",
        "      numero += element\n",
        "    else:\n",
        "      lista_de_numeros.append(float(numero))\n",
        "      numero = ''\n",
        "\n",
        "  return lista_de_numeros\n",
        "\n",
        "P = gerando_lista_de_numeros(input())\n",
        "Q = gerando_lista_de_numeros(input())\n",
        "\n",
        "if len(P) != len(Q):\n",
        "  print('ERRO')\n",
        "else:\n",
        "  lista_de_distancias = []\n",
        "  for index, par in enumerate(P):    \n",
        "    distancia_ao_quadrado = (P[index] - Q[index])**2\n",
        "    lista_de_distancias.append(distancia_ao_quadrado)\n",
        "\n",
        "  squared_distances = math.sqrt(sum(lista_de_distancias))\n",
        "  print('%.2f'%squared_distances)"
      ],
      "metadata": {
        "colab": {
          "base_uri": "https://localhost:8080/"
        },
        "id": "djX6gQ98t6NE",
        "outputId": "bb8d963b-5914-4c32-9eed-4b57f34fc821"
      },
      "execution_count": null,
      "outputs": [
        {
          "output_type": "stream",
          "name": "stdout",
          "text": [
            "1 3 5\n",
            "2 1 -1\n",
            "6.40\n"
          ]
        }
      ]
    },
    {
      "cell_type": "markdown",
      "source": [
        "# Hagrid"
      ],
      "metadata": {
        "id": "XvZ_32GOv5QU"
      }
    },
    {
      "cell_type": "markdown",
      "source": [
        "Dado um vetor X de n números reais, o Hagrid de X é dado por:"
      ],
      "metadata": {
        "id": "zzpZ8VZEv67M"
      }
    },
    {
      "cell_type": "markdown",
      "source": [
        "![image.png](data:image/png;base64,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)"
      ],
      "metadata": {
        "id": "FzZAb5Ipv8NU"
      }
    },
    {
      "cell_type": "markdown",
      "source": [
        "em que med é a média de X. Faça um programa que:\n",
        "- lê um número inteiro n que representará o tamanho do vetor X;\n",
        "- lê e armazena em X os n números reais que o constituem;\n",
        "- calcula e imprime o Hagrid de X.\n",
        "\n",
        "Entrada:\n",
        "- A entrada contém um número inteiro n e um vetor de reais X, de tamanho n.\n",
        "\n",
        "Saída:\n",
        "- Seu programa deve imprimir na tela o Hagrid usando duas casas decimais. Veja nos exemplos abaixo que na saída há o texto “Hagrid = ” (com um espaço no final) precedendo o valor do Hagrid propriamente.\n",
        "\n",
        "Exemplos:\n",
        "- 5; 1 2 3 4 5 -> Hagrid = 1.10\n",
        "- 7; 2 2 2 2 2 2 2 -> Hagrid = 0.0\n",
        "- 3; -1 2.9 6 -> Hagrid = 2.47"
      ],
      "metadata": {
        "id": "j5csoKc7v9nc"
      }
    },
    {
      "cell_type": "code",
      "source": [
        "import math\n",
        "import numpy as np\n",
        "\n",
        "def gerando_lista_de_numeros(lista_de_strings):\n",
        "  lista_de_numeros = []\n",
        "  numero = ''\n",
        "  for element in (lista_de_strings + ' '): \n",
        "    if element != ' ':\n",
        "      numero += element\n",
        "    else:\n",
        "      lista_de_numeros.append(float(numero))\n",
        "      numero = ''\n",
        "\n",
        "  return lista_de_numeros"
      ],
      "metadata": {
        "id": "GKPgVczAwHJN"
      },
      "execution_count": 1,
      "outputs": []
    },
    {
      "cell_type": "code",
      "source": [
        "n = int(input())\n",
        "vetor = gerando_lista_de_numeros(input())\n",
        "media_vetor = (sum(vetor) / n)\n",
        "\n",
        "iteracoes = []\n",
        "for numero in vetor[:n-1]:\n",
        "  calculo = ((numero - media_vetor)**2) * numero\n",
        "  iteracoes.append(calculo)\n",
        "\n",
        "somatorio = sum(iteracoes)\n",
        "resultado = (somatorio / n**2)**0.5\n",
        "print('Hagrid = %.2f'%resultado)"
      ],
      "metadata": {
        "id": "uLgufEnzwoL8"
      },
      "execution_count": null,
      "outputs": []
    },
    {
      "cell_type": "markdown",
      "source": [
        "# Semiparticionado"
      ],
      "metadata": {
        "id": "6EWFHtsON_jk"
      }
    },
    {
      "cell_type": "markdown",
      "source": [
        "Dado um vetor V de n elementos (suponha que n é ímpar e positivo), o semiparticionado de V é obtido pelas seguintes operações:\n",
        "\n",
        "- se o primeiro elemento de V for maior do que o último elemento V, trocar a posição desses dois elementos;\n",
        "- se o segundo elemento de V for maior do que penúltimo elemento V, trocar a posição desses dois elementos;\n",
        "- se o terceiro elemento de V for maior do que o antepenúltimo elemento de V, trocar a posição desses dois elementos;\n",
        "- …\n",
        "- assim por diante até que as posições dos elementos vizinhos do elemento do meio sejam trocadas, caso necessário.\n",
        "\n",
        "Aqui uma representação esquemática das possíveis operações de troca que são realizadas para se obter o semiparticionado de um vetor:"
      ],
      "metadata": {
        "id": "pnnMEfu7OBNl"
      }
    },
    {
      "cell_type": "markdown",
      "source": [
        "![image.png](data:image/png;base64,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)"
      ],
      "metadata": {
        "id": "g_xAPG9HOEoc"
      }
    },
    {
      "cell_type": "markdown",
      "source": [
        "Se V contém apenas um elemento, o semiparticionado de V é o próprio V. Faça um programa que:\n",
        "- leia um número inteiro n estritamente positivo ímpar (não precisa fazer validação, isto é, suponha que n é fornecido corretamente);\n",
        "- cria um vetor V e lê n valores inteiros do usuário e armazena-os em V;\n",
        "- transforme V no semiparticionado de V;\n",
        "- imprima o semiparticionado de V."
      ],
      "metadata": {
        "id": "SnUZDbSYOGAc"
      }
    },
    {
      "cell_type": "markdown",
      "source": [
        "Entrada:\n",
        "- A entrada é um número inteiro n estritamente positivo ímpar , seguidos dos elementos do vetor V.\n",
        "\n",
        "Saída:\n",
        "- Seu programa deve imprimir na tela o particionado do vetor V.\n",
        "\n",
        "Exemplos:\n",
        "- 1 5 -> [5]\n",
        "- 5 5 4 3 2 1 -> [1, 2, 3, 4, 5]\n",
        "- 3 1 2 3 -> [1, 2, 3]"
      ],
      "metadata": {
        "id": "yYRQxQ1LOH-8"
      }
    },
    {
      "cell_type": "code",
      "source": [
        "numeros_no_vetor = int(input())\n",
        "vetor = []\n",
        "\n",
        "for i in range(numeros_no_vetor):\n",
        "  vetor.append(int(input()))\n",
        "\n",
        "if len(vetor) == 1:\n",
        "  print(vetor)\n",
        "else:\n",
        "  if len(vetor) % 2 == 0: # número par, tem dois elementos no meio\n",
        "    iteracoes = len(vetor) / 2\n",
        "    for i in range(int(iteracoes) + 1):\n",
        "      if vetor[i-1] > vetor[-i]:\n",
        "        temp_primeiro = vetor[i-1]\n",
        "        temp_ultimo = vetor[-i]\n",
        "        vetor[i-1] = temp_ultimo\n",
        "        vetor[-i] = temp_primeiro\n",
        "    print(vetor)\n",
        "\n",
        "  else: # número ímpar, tem um elemento no meio\n",
        "    iteracoes = len(vetor) // 2\n",
        "    for i in range(int(iteracoes) + 1):\n",
        "      if vetor[i-1] > vetor[-i]:\n",
        "        temp_primeiro = vetor[i-1]\n",
        "        temp_ultimo = vetor[-i]\n",
        "        vetor[i-1] = temp_ultimo\n",
        "        vetor[-i] = temp_primeiro\n",
        "    print(vetor)"
      ],
      "metadata": {
        "colab": {
          "base_uri": "https://localhost:8080/"
        },
        "id": "393DA48POVAb",
        "outputId": "d494c5e1-9ddb-4705-9fff-a1634844e631"
      },
      "execution_count": 30,
      "outputs": [
        {
          "output_type": "stream",
          "name": "stdout",
          "text": [
            "4\n",
            "4\n",
            "3\n",
            "2\n",
            "1\n",
            "[1, 2, 3, 4]\n"
          ]
        }
      ]
    },
    {
      "cell_type": "markdown",
      "source": [
        "# Convolução discreta"
      ],
      "metadata": {
        "id": "jFqszKtwT31K"
      }
    },
    {
      "cell_type": "markdown",
      "source": [
        "Dados dois vetores X e Y de números reais, ambos de tamanho n, a convolução discreta de X e Y é dada por:"
      ],
      "metadata": {
        "id": "Au0aSSjQT6qp"
      }
    },
    {
      "cell_type": "markdown",
      "source": [
        "![image.png](data:image/png;base64,iVBORw0KGgoAAAANSUhEUgAAAH8AAABHCAIAAACh9g+EAAAJ9ElEQVR4nO2cT2ji6hbAz318QgQFAwqTRYQIBhQqjAsHKlToQAWFl4UFCx0YYQZeF3NhLtwL7/GW7+3eXbzFLLroBQemMMJ04QMLFlqoUEEXuRBBwYABXaQQIUICCSRw30LbzrTGqrV12pvfqtLky8nJ+c53/nzJD3/88QfYLIm/LFuAPzW29peJrf1lYmt/mdy79jWRK5c55b4v8zhB9zd09zR/IoAiCueu9WgS3Pd3pUfLPdq+P5HL5XLpMHZ/l3js2H5/mVh4HkNiD485ceBbz6zI1fq5oYuiGWKyCb/zYeV72oy3fY2viivMmleu7n9u+DY2mc1XG37xpCIYDyzeE2e87asQjJFqs6R7Y7l0wAkA2kDWMRxzAACA0T0r1kWLEX2RZIL+dok1Fyjwk2K89n3hMCgs38cCaQIAADS+2UPUKjn8t8Mf3/Q/lIRPGctV1+i1RUQFh/pWWiyPQjEKxHZnntBdn1e8J46l9kW+Z5I05QAAMISmgAWjpMqeCcgOIBeHVbal9GWTigSHEY6DjKz42HqxSsU3/I5phxZrn0oNVRF1ZLKfdns4EWOYCL4IoZ8MP9j1/SViZ1vLxNb+MrG1v0wm1DgNwzKzNc0ZEyiEnI6pl+s/D+O0bzQ//3u/sdAEFQtlf34VsWtE1xinfUcwsf6sdXQ+1D8iU+924r7xp1/Mj9FkME1VlWRpIMliX5S6gnCuDgfRW1VWjsTtePNbrCJOqba3+z9hmKMi79qbd8npA/0rDLnTqJ4c14WBCZ7Vv71PzzPIE8Zq1fW9yDIh1/Bvs18pFNvaHKM78EA0/fb9u8yKFw3YKj/PGE8Z65jHHclknntGPwa/HxzM3Zx1+KJb796sefgqJ885xBNlUsTppJnsqne0MqitYqEmzX0dhz+5tW7WLevSf05urTRIZ7sfDnujBfjZxs5Ogpjbd2uyDDhuRz6X3Jpt+eJZJjiqa5rnR58PO/M7b6et+m+ZItfFo5nMymgBhn69UGzau3MWxFSVBneYyca8ox9q4+CAtVfPhTBlnccZSG1tPBstwDpfLJxJdoP97sxS35drex+uMrDVN+8WljwZUvPkuMIJMuBkZJ1Z9/WOisdtSQVibSsbn26ZVzrlgyIr6hixltmOX0qmNEulJvFyM2qRrS+VWWqc+DcZWHXODOwGhlQrHHC+xOtf/vFzLiRX9j/8d6+C1nOvXlImf1RqTLXKSGeFI3317ftMUOWPjq7OEavlaoPvfadp3mwVZnckk40tJAO7Qq4f/O5jMlHCCeBwud1gqkCn1v1y/bgxMJHLNUUjWePKrC+Vot2q2NMBELooX8mddh8QGSTuLOa9MGt93xlIvVp7tpgMDAAANBlCG2sXzkXsiQAYGSIc4F97tZ198y5Df+V3tG6tfNq++cQHpi+x6neAyLJ9QMHoqB8NSrvVByCD5ALLS4bUPC2x8931dfln7644iORWihoZpC4cHTfvNK2dgXgicJEFiHxHBUSGSQcAuIlwJIB/rTdD/L3C9dSbtW8imoz4ALos1wfsSvmawPdM8JL+xeyfFmuf8/n8b/nCEdeba87fkH+u3tZVCc61wqTDC8uglK7QByCCpMWIjgDzyy+volZ16m6jOfha+YbY7pngIoNeixNmhHixlcvlmIjn9kPHc0P+OTuLyINjCKNSbzORu9qVIXfaHUkDAE1oiQBeKnAhntI+46af4nKvNwAg6Es30+d7KiCSnr80ct/M9faEVCt8rKPY6+247643pnGFD4WW/mzj/Y8xkeuZgBHUyFSNzklZoHLx4XHds1JVGKj4WjZNj3/gpmkAYC7XxX+ldrsPQAUpJwAo7XK53hNhZTPp5k553ZS6A08iu/lQG4zGyz+77SvNL/lDKZgdba+9I6os68i7kohgnZNTEXOBqes6ABhirVCS4+nh1DLaJ3V3koliIms9GTyk3wW6JIgGgCFzXz6dnAM8CwbcACCynOdlesXROsyX9SjDMFvZGGoczzCz7oSV/DPavtEt5wstfGMnE17MSuaLpdeEUvN4b88dTu+8x4XD4vHuf8oI89GJre0Ly1QhmAghviCgYJa0GsoRSOX+ahQr+V85hLlJHADAE6B8AKAZvmjYJZYkRDGZqM8BAHJfBjd2Ec1KbPG0Y5G9O+mX6YlTRGufliyfIxFj4n4r+WfSvlTb36/CQjzOJc5AMvdj8vJnhHkbuXkQTtOg1Io8Fn5NTbiyg3ixufMCAACMzpdfG+CiQgQAgNMfDkC3KJjkOjWcsGKrrXpjlz7AF2U2o3PfAp3YpCceYSX/9J5HaX/JH0rUgjzOzEhsveeJxAJ6py2OMVKptvevf/4rz44iQY2vt1TwRGKBy5uVhK7uHfohgC7LDYhYGJfHj/ZQ8k+pfaNbzu+38FTuTh5Hk+V5cwO53ep7o1Fvt8pK6Kb5S826oIOua+ZQ2kq5obueM+tXbxkoPb7vGvqhoeUTz2msXWVV14NEROPln0r7Q4+z+nr7xV08jlzbz1fmtTRXYIVyCqfFBvFy3O4WDHMiRKYyMRw0sVbYr6hUKsfQX01SuSd7wiujp+ENRSnEHx+JwWR0emuSuS97e7uf2QHSueLu3t7nGfL88fLfXuNUml92CwKZ3dm6i9kbUu3jbpV4/VP6fl56MST2sHjWUUwTEE5G15PxwCN4QfgW7Rvd8u5vrDv1NvfiDhVapXNaKBwJ2Mb7nxLfY6F3aUyKeQyptv+xCqtvtudVvSF3GvX6Wb1xrgOQaxFb9d9irX2leZA/lELZnal3sRmGpg8GsiIPBoosnYu9dksYXJSUEPXcfnHlOhaeR+uW936rnC9uJy0KZv+es7fRXmNszCOzhY+LVD0AFooFbdXfYLztG4ZmvUN/5s37AAhhTud3W2lcHvZbc8vEfnNomdjaXybT1Di1bq0i4KvXv30xCaVdLrGKE5mKiceSSdqONccyhe1b9rItT+iW9kpKjNlkNrcyUaX46fSB6oiPjim0f0sv+wYaX2EHRHjYGndSYaJfObU/7DOWe/D7Et/TMedF4daBuTG9x/cXf50nwGS/P0Uv+wbGQNEBwy6je4QQ6JoC8J3uJ1smE6tso15w8dcDTkrTbgClWS5Zv3uFnOEEE3GNycZMXTcA7HTrOpO0f7MX7A4nt8K3jGgghODrB2CaAOgev/v5iJnk93Ga9ulcncfCsUm97Gs4XG5suLdmiGkAuNwP0797bNxik8NecDqgd9p9kib09sSv+jroBBPxERSJWEUduRpNVXWMpGynP47J2h/2gre83WpRigZocNDJW/ZOAIAztBbz7HO8Fg47QeE50RPdDtqmP47JVTZDPNsv8S6P77YNRdfPk7mjEqtgODI1ZyS5EcZt7Y/DrnEuE7vKtkxs7S8TW/vL5P9/iYRMwcJFgwAAAABJRU5ErkJggg==)"
      ],
      "metadata": {
        "id": "jTmx4FAMT7ZB"
      }
    },
    {
      "cell_type": "markdown",
      "source": [
        "Faça um programa que:\n",
        "- lê um número inteiro n que representa o tamanho dos vetores;\n",
        "- lê dois vetores de reais X e Y, ambos de tamanho n;\n",
        "- calcula e imprime a convolução discreta de X e Y.\n",
        "\n",
        "Entrada:\n",
        "- A entrada contém um número inteiro n e dois vetores de reais X e Y, ambos de tamanho n. Verifique nos exemplos abaixo que há os textos “n = ”, “Vetor X: ” e “Vetor Y: ” (com um espaço no final) antes da leitura respectivamente de n, X e Y. Note também que os elementos de X e Y são lidos na mesma linha (sem quebra de linha) com um espaço entre eles.\n",
        "\n",
        "Saída:\n",
        "- Seu programa deve imprimir na tela o resultado da convolução usando duas casas decimais. Veja nos exemplos abaixo que na saída há o texto “Convolucao = ” (com um espaço no final) precedendo o valor da convolução propriamente.\n",
        "\n",
        "Exemplos:\n",
        "- 3; 1.11 2.22 3.33; 0 0 0 -> Convolucao = 0.00\n",
        "- 4; 1.2 3.1 4.55 6.7; 2.2 3.33 4.5 3.23 -> Convolucao = 47.72\n",
        "- 5; 1 2 3 4 5; 1 2 3 4 5 -> Convolucao = 35.00"
      ],
      "metadata": {
        "id": "gUj5DSiST9aR"
      }
    },
    {
      "cell_type": "code",
      "source": [
        "tamanho_dos_vetores = 4 # int(input())\n",
        "vetor_x = [1.2, 3.1, 4.55, 6.7]\n",
        "vetor_y = [2.2, 3.33, 4.5, 3.23]\n",
        "\n",
        "iteracoes = []\n",
        "for index in range(len(vetor_x)):\n",
        "  calc = (vetor_x[index] * vetor_y[index - 1]) - i\n",
        "  iteracoes.append(calc)\n",
        "\n",
        "print('Convolucao = %.2f'%sum(iteracoes))"
      ],
      "metadata": {
        "colab": {
          "base_uri": "https://localhost:8080/"
        },
        "id": "HsiUWWr3ULih",
        "outputId": "ecc47ba5-1237-49b2-9a5a-2fb3b1516ab3"
      },
      "execution_count": 90,
      "outputs": [
        {
          "output_type": "stream",
          "name": "stdout",
          "text": [
            "Convolucao = 48.00\n"
          ]
        }
      ]
    },
    {
      "cell_type": "markdown",
      "source": [
        "# Dobra Vetor"
      ],
      "metadata": {
        "id": "lunmTWNJai9P"
      }
    },
    {
      "cell_type": "markdown",
      "source": [
        "Faça um programa que faz o seguinte:\n",
        "- lê um número inteiro par N fornecido pelo usuário. O programa deve continuar solicitando o número N enquanto o valor entrado não for par;\n",
        "- preenche uma lista de tamanho N com números inteiros fornecidos pelo usuário;\n",
        "- faz a “dobra ao meio” do vetor. Ou seja, você irá criar um vetor com a metade do número de elementos do vetor original, cujas entradas são dadas pela soma dos valores que se encontram quando o vetor é “dobrado ao meio”. Como no exemplo abaixo:\n",
        "\n",
        "Se o vetor original é dado por v = [4, 5, 8, 9, 3, 7, 6, 1] o vetor resultante da dobra ao meio será v’ = [5, 11, 15, 12] (em que, 5=4+1, 11=5+6, 15=8+7 e 12=9+3)."
      ],
      "metadata": {
        "id": "5fJaZXqval4O"
      }
    },
    {
      "cell_type": "markdown",
      "source": [
        "![image.png](data:image/png;base64,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)"
      ],
      "metadata": {
        "id": "NtmJEZrKaqUx"
      }
    },
    {
      "cell_type": "markdown",
      "source": [
        "Exemplos:\n",
        "- 3 3 3 1 1 4 1 2 3 4 -> [5, 5]\n",
        "- 10 1 1 1 2 2 2 9 9 9 10 -> [11, 10, 10, 11, 4]"
      ],
      "metadata": {
        "id": "7mJ9aUwvarG2"
      }
    },
    {
      "cell_type": "code",
      "source": [
        "def check_if_even(number):\n",
        "  if number % 2 == 0:\n",
        "    return True\n",
        "  else:\n",
        "    return False\n",
        "\n",
        "\n",
        "N = 5\n",
        "while check_if_even(N) == False:\n",
        "  N = int(input())\n",
        "\n",
        "\n",
        "vetor = []\n",
        "for i in range(N):\n",
        "  vetor.append(int(input()))\n",
        "\n",
        "\n",
        "vetor_dobrado = []\n",
        "for i in range(int(len(vetor) / 2)):\n",
        "  i = i + 1\n",
        "  vetor_dobrado.append(vetor[i-1] + vetor[-i])\n",
        "\n",
        "print(vetor_dobrado)"
      ],
      "metadata": {
        "colab": {
          "base_uri": "https://localhost:8080/"
        },
        "id": "55LdVC5Caxr2",
        "outputId": "fd41afca-29f8-418e-d429-a6f703bb9e64"
      },
      "execution_count": 119,
      "outputs": [
        {
          "output_type": "execute_result",
          "data": {
            "text/plain": [
              "[5, 11, 15, 12]"
            ]
          },
          "metadata": {},
          "execution_count": 119
        }
      ]
    },
    {
      "cell_type": "markdown",
      "source": [
        "# The Big Bang Party"
      ],
      "metadata": {
        "id": "LqIyKxAFd1sd"
      }
    },
    {
      "cell_type": "markdown",
      "source": [
        "Sheldon, Leonard, Howard e Rajesh são amigos que trabalham como pesquisadores na mesma universidade. Sheldon e Leonard são físicos, sendo Sheldon teórico e Leonard experimental, e os dois moram no mesmo apartamento. Howard é engenheiro e Rajesh é astrofísico.\n",
        "\n",
        "Semanalmente, os quatro amigos se reúnem no apartamento de Sheldon e Leonard para jogar videogame, discutir histórias em quadrinhos e comer comida tailandesa. Penny, que mora no apartamento da frente, sempre se junta a eles pois ela adora comer de graça.\n",
        "\n",
        "Um certo dia, Penny teve a ideia de organizar uma festa para reunir toda a turma e mais algumas amigas suas (para equilibrar o número de homens e mulheres). Todos gostaram da ideia, menos Sheldon, que não gosta de festas. Depois de algum tempo, os amigos conseguiram convencer Sheldon a aceitar que a festa fosse realizada em seu apartamento, mas ele impôs duas condições: que o nome da festa deveria ser “The Big Bang Party” e que ela deveria ter todos os seus consoles de video-game, que contempla os clássicos Atari, Telejogo e Commodore 64, Super Nintendo, Mega Drive e Dreamcast.\n",
        "\n",
        "Contudo, Sheldon ficou preocupado com o fato que muitos equipamentos eletrônicos ligados ao mesmo tempo (além dos consoles de video-game, também serão ligados TV's, notebooks, roteadores WiFi e uma máquina para fazer algodão doce) podem causar o desarme do disjuntor do prédio (o que obrigaria alguém a descer até o térreo pelas escadas para rearmar o disjuntor, pois o elevador do prédio não funciona). O disjuntor suporta uma capacidade máxima de corrente C, em amperes, e cada equipamento i consome uma quantidade Qi de corrente. O disjuntor desarma se a soma da corrente de todos os equipamentos ligados ao mesmo tempo for maior do que C.\n",
        "\n",
        "Sheldon elaborou um cronograma que indica a sequência de operações a serem aplicadas, uma operação liga ou desliga um equipamento i, e ele sabe a quantidade de corrente que cada equipamento consome. De posse desses dados, Sheldon sabe que é possível fazer um programa de computador para determinar a maior quantidade de corrente consumida ao longo da sequência de operações e se o disjuntor irá desarmar. Porém Sheldon está muito ocupado tentando encontrar novas dimensões para o universo. Por isso, ele lhe enviou um e-mail propondo que você implemente o programa e, caso consiga, você será convidado para a festa.\n",
        "\n",
        "Entrada\n",
        "- A primeira linha da entrada contém três números inteiros:\n",
        "- N, 1 ≤ N ≤ 50: quantidade de equipamentos.\n",
        "- M, 1 ≤ M ≤ 100: tamanho da sequência de operações de manipulação de equipamentos.\n",
        "- C, 1 ≤ C ≤ 500000: capacidade máxima de corrente suportada pelo disjuntor.\n",
        "\n",
        "Cada uma das próximas N linhas da entrada contém um inteiro Qi, 1 ≤ Qi ≤ 10000, indicando a quantidade de corrente consumida pelo equipamento i, 1 ≤ i ≤ N.\n",
        "\n",
        "Cada uma das próximas M linhas da entrada contém um inteiro i, indicando uma operação de manipulação aplicada ao equipamento i:\n",
        "- Se no momento da leitura o equipamento i estiver desligado, então ele será ligado. Caso contrário, ele será desligado.\n",
        "- Inicialmente todos os equipamentos estão desligados.\n",
        "\n",
        "Saída\n",
        "- O seu programa deve escrever uma linha na saída contendo:\n",
        " - “Oh no! O disjuntor sobrecarregou na operação (E, K).”, caso o disjuntor tenha desarmado ao longo da sequência de ligar/desligar equipamentos. O parâmetro de saída E, 1 ≤ E ≤ N, indica o índice do equipamento que foi ligado quando ocorreu o desarme do disjuntor e K, 1 ≤ K ≤ M, indica o índice da operação correspondente.\n",
        " - “Bazinga! O maior consumo foi X.”, caso o disjuntor não tenha desarmado. O parâmetro de saída X indica o consumo máximo de corrente registrado ao longo da sequência de ligar/desligar equipamentos.\n",
        "\n"
      ],
      "metadata": {
        "id": "gta4rug_d53E"
      }
    },
    {
      "cell_type": "code",
      "source": [
        "def gerando_lista_de_numeros(lista_de_strings):\n",
        "  lista_de_numeros = []\n",
        "  numero = ''\n",
        "  for element in (lista_de_strings + ' '): \n",
        "    if element != ' ':\n",
        "      numero += element\n",
        "    else:\n",
        "      lista_de_numeros.append(float(numero))\n",
        "      numero = ''\n",
        "\n",
        "  return lista_de_numeros"
      ],
      "metadata": {
        "id": "5H46cdCLe8qt"
      },
      "execution_count": 131,
      "outputs": []
    },
    {
      "cell_type": "code",
      "source": [
        "# disjuntor suporta capacidade máxima de corrente C (amperes)\n",
        "# cada equipamento \"i\" consome quantidade \"Qi\" de corrente\n",
        "# disjuntor desarma -> se soma da corrente de todos equipamentos for maior que C.\n",
        "\n",
        "primeiro_input = gerando_lista_de_numeros(input()) \n",
        "quantidade_de_equipamentos = primeiro_input[0]\n",
        "quantidade_de_operacoes = primeiro_input[1]\n",
        "C = primeiro_input[2]\n",
        "\n",
        "Qi_de_equipamentos = []\n",
        "for i in range(int(quantidade_de_equipamentos)):\n",
        "  Qi_de_equipamentos.append(int(input()))\n",
        "\n",
        "operacao_aplicada_a_equipamento_i = [] \n",
        "for i in range(int(quantidade_de_operacoes)):\n",
        "  operacao_aplicada_a_equipamento_i.append(int(input()))\n",
        "\n",
        "dict_equipamentos = {}\n",
        "for index, Qi in enumerate(Qi_de_equipamentos):\n",
        "  dict_equipamentos[index+1] = {'Qi': Qi, 'Ligado': 0}\n",
        "\n",
        "carga_no_disjuntor = 0\n",
        "disjuntor_desarmou = False\n",
        "lista_de_consumo = []\n",
        "for index, equipamento_i in enumerate(operacao_aplicada_a_equipamento_i):\n",
        "  if dict_equipamentos[equipamento_i]['Ligado'] == 0:\n",
        "    dict_equipamentos[equipamento_i]['Ligado'] = 1\n",
        "    carga_no_disjuntor += dict_equipamentos[equipamento_i]['Qi']\n",
        "  elif dict_equipamentos[equipamento_i]['Ligado'] == 1:\n",
        "    dict_equipamentos[equipamento_i]['Ligado'] = 0\n",
        "    carga_no_disjuntor -= dict_equipamentos[equipamento_i]['Qi'] \n",
        "  \n",
        "  lista_de_consumo.append(carga_no_disjuntor)\n",
        "\n",
        "  if carga_no_disjuntor > C:\n",
        "    disjuntor_desarmou = (equipamento_i, index + 1)\n",
        "    break\n",
        "\n",
        "if disjuntor_desarmou:\n",
        "  print(f'Oh no! O disjuntor sobrecarregou na operação {str(disjuntor_desarmou)}.')\n",
        "else:\n",
        "  maior_consumo = 0\n",
        "  for consumo in lista_de_consumo:\n",
        "    if consumo > maior_consumo:\n",
        "      maior_consumo = consumo\n",
        "  print(f'Bazinga! O maior consumo foi {maior_consumo}.')"
      ],
      "metadata": {
        "colab": {
          "base_uri": "https://localhost:8080/"
        },
        "id": "e3c5NTRheDA1",
        "outputId": "ea18c50a-410c-4ad8-a225-b93b940cd3b6"
      },
      "execution_count": 152,
      "outputs": [
        {
          "output_type": "stream",
          "name": "stdout",
          "text": [
            "Oh no! O disjuntor sobrecarregou na operação (1, 2).\n"
          ]
        }
      ]
    },
    {
      "cell_type": "markdown",
      "source": [
        "# Jogo da Vida"
      ],
      "metadata": {
        "id": "vKFqoIsJol3r"
      }
    },
    {
      "cell_type": "markdown",
      "source": [
        "O Jogo da Vida é um autômato celular desenvolvido pelo matemático britânico John Horton Conway em 1970. O jogo foi criado de modo a reproduzir, através de regras simples, a evolução da vida de uma população de seres vivos. Os organismos vivem em um tabuleiro (malha) bidimensional (veja a figura abaixo). Nesse tabuleiro, uma casa (um quadriculado na malha) colorida em preto abriga um organismo vivo e uma célula em branco não abriga um organismo vivo."
      ],
      "metadata": {
        "id": "PQ0K6LsgooXB"
      }
    },
    {
      "cell_type": "markdown",
      "source": [
        "![image.png](data:image/png;base64,iVBORw0KGgoAAAANSUhEUgAAARAAAAEACAIAAAD0vr7ZAAADfElEQVR4nO3dwW0CQRQFwcVZQf6CsPDBAXgbsewMU3X+srDk1vjyxOX5fD4ej23brtfrto9798veX+73+86fC/yc/QFgJhf/krl3v//eCwOBYCAQDASCgUAwEAgGAsFAIBgIBAOBYCAQDASCgUAwENjDQOCFgcAexr17exg4hmAgEAwEgoFAMBAIBgLBQCAYCAQDgWAgEAwEgoFAMBDYw0DghYHgc3uY2+228/7v0Tv6fpB9hfu57r0wEAgGAsFAIBgIBAOBYCAQDASCgUAwEAgGAsFAIBgIBAOBPQwEXhgIxt3DDLJ/cL/zfpH9khcGAsFAIBgIBAOBYCAQDASCgUAwEAgGAsFAIBgIBAOBYCCwh4HACwPB5/Yw9jPn3s/+/TyD/D14YSAQDASCgUAwEAgGAsFAIBgIBAOBYCAQDASCgUAwEAgGAnsYCLwwEIy7h5l9H+Lzf+W9FwYCwUAgGAgEA4FgIBAMBIKBQDAQCAYCwUAgGAgEA4FgILCHgcALA8G6e5hJv5/E/bn3XhgIBAOBYCAQDASCgUAwEAgGAsFAIBgIBAOBYCAQDASCgcAeBgIvDAT2MKvc2/O85d4LA4FgIBAMBIKBQDAQCAYCwUAgGAgEA4FgIBAMBIKBQDAQ2MNA4IWBwB5m733dk8y+P5n989vDwPkEA4FgIBAMBIKBQDAQCAYCwUAgGAgEA4FgIBAMBIKBwB4GAi8MBOvuYY7ee4z28+1b3nLvhYFAMBAIBgLBQCAYCAQDgWAgEAwEgoFAMBAIBgLBQCAYCOxhIPDCQGAP878x9zCjfZ5F9jleGAgEA4FgIBAMBIKBQDAQCAYCwUAgGAgEA4FgIBAMBIKBwB4GAi8MBN+zh5l0X/Hy/SL7k9HuvTAQCAYCwUAgGAgEA4FgIBAMBIKBQDAQCAYCwUAgGAgEA4E9DAReGAjW3cPYh7h/4d4LA4FgIBAMBIKBQDAQCAYCwUAgGAgEA4FgIBAMBIKBQDAQ2MNA4IWBwB5m7/1ov6/7U+69MBAIBgLBQCAYCAQDgWAgEAwEgoFAMBAIBgLBQCAYCAQDgT0MBF4YCL5nD+Pe/QfuvTAQCAYCwUAgGAgEA4FgIBAMBIKBQDAQCAYCwUAgGAgEA4E9DAReGAjsYdy7t4eBYwgGAsFAIBgIBAOBYCAQDASCgUAwEAgGAsFAIBgIfgFgFLz6eCE+wQAAAABJRU5ErkJggg==)"
      ],
      "metadata": {
        "id": "cqJpzq-7oqRJ"
      }
    },
    {
      "cell_type": "markdown",
      "source": [
        "A evolução da vida acontece pelo desenvolvimento de gerações. Para determinar se uma casa do tabuleiro abrigará um organismo vivo na próxima geração é observado, na geração atual, se ela contém ou não um organismo vivo e o número de organismos vivos nas 8 casas vizinhas a ela. Um novo tabuleiro com uma configuração que reflete a nova geração é gerado e esse processo se repete sucessivamente. A figura abaixo ilustra duas evoluções de um tabuleiro 6x6. O tabuleiro mais a esquerda ilustra a configuração inicial, o do meio a configuração do tabuleiro após a primeira evolução e o tabuleiro mais a direita a configuração do tabuleiro após duas evoluções."
      ],
      "metadata": {
        "id": "FTC4EFVCorp4"
      }
    },
    {
      "cell_type": "markdown",
      "source": [
        "![image.png](data:image/png;base64,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)"
      ],
      "metadata": {
        "id": "i5cPx4z5oscL"
      }
    },
    {
      "cell_type": "markdown",
      "source": [
        "As regras pra determinar se uma casa (x, y) do tabuleiro abrigará um organismo vivo na próxima geração são bem simples e razoáveis:\n",
        "- O organismo vivo em uma casa morre se este possuir menos de dois vizinhos vivos (morte por isolamento).\n",
        "- Qualquer organismo vivo continua vivo na próxima geração se este possuir dois ou três vizinhos vivos.\n",
        "- O organismo vivo morre se este possuir mais do que três vizinhos vivos (morte por superpopulação, i.e., falta de alimento).\n",
        "- Uma casa que não contém um organismo vivo ganha um organismo vivo na próxima geração se esta possuir três vizinhos vivos (o milagre da reprodução sexuada!).\n",
        "\n",
        "Neste exercício, vamos desenvolver um programa para uma variação 1-dimensional do Jogo da Vida. Nesta variação, a regra de evolução é baseada em uma vizinhança de 5 casas BBABB, onde a próxima geração da casa A dependerá dela mesma e do estado das quatro casas vizinhas B’s. Nessa variação, temos apenas duas regras de evolução:\n",
        "- Um organismo nasce em A se ele contém 2 ou 3 vizinhos vivos.\n",
        "- Um organismo em A continua vivo apenas se contém 2 ou 4 vizinhos vivos (casas B's).\n",
        "\n",
        "Entrada:\n",
        "- A primeira linha da entrada consiste de dois números inteiros N e K, separados por espaço. O número N representa o número de casas do tabuleiro 1-dimensional e o número K representa o número de gerações que você deve evoluir a população inicial. A segunda linha da entrada consiste de uma cadeia de N caracteres que denota a geração inicial da população de seres vivos. Uma célula com um organismo vivo é denotada pelo caractere X e uma célula que não contém um organismo vivo por um caractere . (ponto).\n",
        "\n",
        "Saída:\n",
        "- A saída do seu programa deve consistir de K + 1 linhas, onde a primeira linha denota a configuração da geração inicial inicial, a segunda a da primeira geração, a terceira a da segunda e assim sucessivamente.\n",
        "\n",
        "Dica:\n",
        "- Crie uma função que, dado um tabuleiro 1D e uma casa no tabuleiro, devolva o número de vizinhos vivos daquela casa."
      ],
      "metadata": {
        "id": "gABKrkl8ouAZ"
      }
    },
    {
      "cell_type": "code",
      "source": [
        "def gerando_lista_de_numeros(lista_de_strings):\n",
        "  lista_de_numeros = []\n",
        "  numero = ''\n",
        "  for element in (lista_de_strings + ' '): \n",
        "    if element != ' ':\n",
        "      numero += element\n",
        "    else:\n",
        "      lista_de_numeros.append(int(numero))\n",
        "      numero = ''\n",
        "\n",
        "  return lista_de_numeros\n",
        "\n",
        "\n",
        "def numero_de_vizinhos(geracao, casa):\n",
        "  numero_de_vizinhos = 0\n",
        "  if casa == 0:\n",
        "    if geracao[1] == 'X':\n",
        "      numero_de_vizinhos += 1\n",
        "    if geracao[2] == 'X':\n",
        "      numero_de_vizinhos += 1\n",
        "  elif casa == -1:\n",
        "    if geracao[-2] == 'X':\n",
        "      numero_de_vizinhos += 1\n",
        "    if geracao[-3] == 'X':\n",
        "      numero_de_vizinhos += 1\n",
        "  else:\n",
        "    try:\n",
        "      if geracao[casa - 1] == 'X':\n",
        "        numero_de_vizinhos += 1\n",
        "    except: pass\n",
        "    try:\n",
        "      if geracao[casa - 2] == 'X':\n",
        "        numero_de_vizinhos += 1\n",
        "    except: pass\n",
        "    try:\n",
        "      if geracao[casa + 1] == 'X':\n",
        "        numero_de_vizinhos += 1\n",
        "    except: pass\n",
        "    try:\n",
        "      if geracao[casa + 2] == 'X':\n",
        "        numero_de_vizinhos += 1\n",
        "    except: pass\n",
        "  \n",
        "  return numero_de_vizinhos"
      ],
      "metadata": {
        "id": "Mf8yATyv5a_C"
      },
      "execution_count": 265,
      "outputs": []
    },
    {
      "cell_type": "code",
      "source": [
        "entrada_um = gerando_lista_de_numeros(input())\n",
        "geracao = input()\n",
        "\n",
        "\n",
        "numero_de_casas = entrada_um[0]\n",
        "numero_de_geracoes = entrada_um[1]\n",
        "\n",
        "print(geracao)\n",
        "for i in range(numero_de_geracoes):\n",
        "  nova_geracao = ''  # deixando uma string pra inputar nova geração \n",
        "  for casa in geracao:\n",
        "    nova_geracao += '.'\n",
        "\n",
        "  for index, casa in enumerate(geracao):\n",
        "    if casa == '.': # se casa for \".\", checar se contém dois ou três vizinhos vivos.\n",
        "      if numero_de_vizinhos(geracao, index) in [2, 3]:\n",
        "        nova_geracao = nova_geracao[:index] + 'X' + nova_geracao[(index + 1) : ]\n",
        "    if casa == 'X': # se casa for \"X\", checar se contém 2 ou 4 vizinhos vivos -> se SIM, continuar vivo\n",
        "      if numero_de_vizinhos(geracao, index) not in [2, 4]:\n",
        "        nova_geracao = nova_geracao[:index] + '.' + nova_geracao[(index + 1) : ]\n",
        "      else:\n",
        "        nova_geracao = nova_geracao[:index] + 'X' + nova_geracao[(index + 1) : ]\n",
        "  geracao = nova_geracao\n",
        "  print(nova_geracao)"
      ],
      "metadata": {
        "colab": {
          "base_uri": "https://localhost:8080/"
        },
        "id": "3TcaAyG9ozUZ",
        "outputId": "571edfcb-c4c9-4652-d6f2-0bdfd0cf3cc2"
      },
      "execution_count": 285,
      "outputs": [
        {
          "output_type": "stream",
          "name": "stdout",
          "text": [
            "....XXX....\n",
            "...XXXXX...\n",
            "..XX.X.XX..\n",
            ".X.XXXXX.X.\n",
            "..X..X..X..\n",
            "...XX.XX...\n",
            "..X.X.X.X..\n",
            "...XXXXX...\n",
            "..XX.X.XX..\n",
            ".X.XXXXX.X.\n",
            "..X..X..X..\n",
            "...XX.XX...\n",
            "..X.X.X.X..\n",
            "...XXXXX...\n",
            "..XX.X.XX..\n",
            ".X.XXXXX.X.\n",
            "..X..X..X..\n",
            "...XX.XX...\n",
            "..X.X.X.X..\n",
            "...XXXXX...\n",
            "..XX.X.XX..\n"
          ]
        }
      ]
    }
  ]
}
