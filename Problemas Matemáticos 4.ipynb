{
  "nbformat": 4,
  "nbformat_minor": 0,
  "metadata": {
    "colab": {
      "provenance": [],
      "authorship_tag": "ABX9TyNZoUP4J2qs6Jomomho/aJX",
      "include_colab_link": true
    },
    "kernelspec": {
      "name": "python3",
      "display_name": "Python 3"
    },
    "language_info": {
      "name": "python"
    }
  },
  "cells": [
    {
      "cell_type": "markdown",
      "metadata": {
        "id": "view-in-github",
        "colab_type": "text"
      },
      "source": [
        "<a href=\"https://colab.research.google.com/github/dantebarross/neuroscience/blob/main/Exerc%C3%ADcios_Programa%C3%A7%C3%A3o_em_Neuroci%C3%AAncia_4.ipynb\" target=\"_parent\"><img src=\"https://colab.research.google.com/assets/colab-badge.svg\" alt=\"Open In Colab\"/></a>"
      ]
    },
    {
      "cell_type": "markdown",
      "source": [
        "# Senha Previsória"
      ],
      "metadata": {
        "id": "OrJqDOewFNo7"
      }
    },
    {
      "cell_type": "markdown",
      "source": [
        "Uma instituição de ensino tem como prática para atribuição de senha de acesso ao portal acadêmico utilizar o RA (registro acadêmico) do aluno. Nesta instituição os RA's são strings de 20 caracteres iniciados sempre pelos caracteres \"RA\" e seguidos por 18 dígitos numéricos. por exemplo: RA000000000000012340. Estes identificadores são gerados automaticamente pelo sistema de matrículas e são formados por três partes principais: (a) iniciados pelos caracteres \"RA\", (b) seguidos por Z dígitos zeros formatadores de posição (0 <= Z <= 17), e por fim, (c) o número identificador do aluno propriamente dito, considerando os X números mais a direita do RA não iniciados por zero (1 <= X <= 18).\n",
        "\n",
        "Entrada:\n",
        "- A entrada consiste de uma string de no máximo 100 caracteres, que representa o RA enviado pelo sistema de matrícula.\n",
        "\n",
        "Saída:\n",
        "- As saídas válidas para o programa são: a apresentação da senha provisória ou a indicação de \"RA INVALIDO\". A senha provisória é formada pelos X caracteres numéricos não iniciados em 0 mais a direita da string, por exemplo: para o identificador \"RA000000000000012340\" a senha provisória deve ser \"12340\". Caso a string recebida não esteja de acordo com as regras de formação, o programa deve indicar \"RA INVALIDO\".\n",
        "\n",
        "Exemplos:\n",
        "- RA000000000000000001 -> 1\n",
        "- RA000000000000000100 -> 100\n",
        "- RA000000000000012345 -> 12345\n",
        "- RA123456789012345678 -> 123456789012345678\n",
        "- ra000000000000000333 -> RA INVALIDO\n",
        "- RA12345 -> RA INVALIDO\n",
        "- 12345678901234567890 -> RA INVALIDO"
      ],
      "metadata": {
        "id": "C3x8lYyLFRNr"
      }
    },
    {
      "cell_type": "code",
      "execution_count": 2,
      "metadata": {
        "id": "7nC-LNlLFL7z"
      },
      "outputs": [],
      "source": [
        "# INÍCIO DEVE CONTER 'RA'\n",
        "# DEPOIS DEVE CONTER 18 DIGITOS NUMÉRICOS\n",
        "# DEPOIS NÚMERO IDENTIFICADOR DO ALUNO\n",
        "\n",
        "# senha provisória (saída) = X caracteres numéricos não iniciados em 0 à direita da string"
      ]
    },
    {
      "cell_type": "code",
      "source": [
        "string = input()\n",
        "index_comeco_senha_provisoria = 0\n",
        "\n",
        "if string[0:2] == 'RA':  \n",
        "  if len(string) < 20:\n",
        "    print('RA INVALIDO')\n",
        "  else:\n",
        "    senha_provisoria = ''\n",
        "    for index, digito in enumerate(string[2:]):\n",
        "      if digito != '0':\n",
        "        index_comeco_senha_provisoria = index\n",
        "        break\n",
        "    print(string[2 + index_comeco_senha_provisoria : ])\n",
        "\n",
        "else:\n",
        "  print('RA INVALIDO')"
      ],
      "metadata": {
        "id": "_5sjTPpLFxmL"
      },
      "execution_count": null,
      "outputs": []
    },
    {
      "cell_type": "markdown",
      "source": [
        "# Substituição"
      ],
      "metadata": {
        "id": "FZAHeMW0IXDL"
      }
    },
    {
      "cell_type": "markdown",
      "source": [
        "Faça um programa que lê um caractere C (uma string de tamanho 1) e uma string S. O programa deve imprimir a string S com todos os caracteres C (maiúsculos e minúsculos) removidos.\n",
        "\n",
        "(Dica: Você pode usar o comando str.lower() para converter uma string str para letras minúsculas)"
      ],
      "metadata": {
        "id": "dmWWKO6-IY9D"
      }
    },
    {
      "cell_type": "markdown",
      "source": [
        "Exemplos:\n",
        "- o Olá todos! -> lá tds!\n",
        "- e Nao faz sentido viver sem poder pedalar -> Nao faz sntido vivr sm podr pdalar.\n"
      ],
      "metadata": {
        "id": "CghwmjXCIZ16"
      }
    },
    {
      "cell_type": "code",
      "source": [
        "caractere_para_remover = input().lower()\n",
        "string = input()\n",
        "nova_string = ''\n",
        "\n",
        "for caractere in string:\n",
        "  if caractere.lower() != caractere_para_remover:\n",
        "    nova_string += caractere\n",
        "\n",
        "print(nova_string)   "
      ],
      "metadata": {
        "id": "22fzv0tPIhNz"
      },
      "execution_count": null,
      "outputs": []
    },
    {
      "cell_type": "markdown",
      "source": [
        "# Exclusão de Vogais"
      ],
      "metadata": {
        "id": "CL-xKIxaJPhK"
      }
    },
    {
      "cell_type": "markdown",
      "source": [
        "Faça um programa que leia uma string e remova todas as suas vogais. Considere que o usuário digitará apenas palavras (strings) sem acento.\n",
        "\n",
        "Entrada:\n",
        "- A entrada contém uma única string, sem acento, que pode ter letras maiúsculas ou minúsculas.\n",
        "\n",
        "Saída:\n",
        "- Seu programa deve imprimir na tela a string resultante da exclusão de todas as suas vogais. Se o usuário digitar uma palavra que contém apenas vogais, o programa deve imprimir a string vazia (“”), o que corresponde a uma saída “em branco”.\n",
        "\n",
        "Exemplos:\n",
        "- BMW -> BMW\n",
        "- Pindamonhangaba -> Pndmnhngb\n",
        "- uai -> uai"
      ],
      "metadata": {
        "id": "YNaYdBYuJQoq"
      }
    },
    {
      "cell_type": "code",
      "source": [
        "string = input()\n",
        "nova_string = ''\n",
        "\n",
        "for caractere in string:\n",
        "  if caractere.lower() not in ['a', 'e', 'i', 'o', 'u']:\n",
        "    nova_string += caractere\n",
        "nova_string"
      ],
      "metadata": {
        "id": "B2rpDEEUJcHi"
      },
      "execution_count": null,
      "outputs": []
    },
    {
      "cell_type": "markdown",
      "source": [
        "# Intercalador"
      ],
      "metadata": {
        "id": "V9CIvBRVJ_Vt"
      }
    },
    {
      "cell_type": "markdown",
      "source": [
        "Implemente um programa denominado intercalador, que recebe duas strings e deve intercalá-las, alternando as letras de cada string, começando com a primeira letra da primeira string, seguido pela primeira letra da segunda string, em seguida pela segunda letra da primeira string, e assim sucessivamente. As letras restantes da cadeia mais longa devem ser adicionadas ao fim da string resultante e retornada.\n",
        "\n",
        "Observação: Seu programa não pode usar funções pré-definidas além de print(), input(), input().split(\" \") e len().\n",
        "\n",
        "Entrada:\n",
        "- Uma linha contendo duas cadeias de caracteres separadas por um espaço em branco.\n",
        "\n",
        "Saída:\n",
        "- Uma cadeia de caracteres resultante da intercalação das duas cadeias fornecidas como entrada.\n",
        "\n",
        "Exemplos:\n",
        "- P2 I020 -> PI2020\n",
        "- aa bb -> abab\n",
        "- 13579 24680 -> 123456789\n",
        "- abc 1234567890987654321 -> a1b2c34567890987654321"
      ],
      "metadata": {
        "id": "a1jZ_klBKBmj"
      }
    },
    {
      "cell_type": "code",
      "source": [
        "primeira_string = input()\n",
        "segunda_string = ''\n",
        "\n",
        "for index, caractere in enumerate(primeira_string):\n",
        "  if caractere == ' ':\n",
        "    segunda_string = primeira_string[index+1:]\n",
        "    primeira_string = primeira_string[:index]\n",
        "\n",
        "nova_string = ''\n",
        "if len(primeira_string) < len(segunda_string):\n",
        "  count = 0\n",
        "  for index, caractere_a in enumerate(primeira_string):\n",
        "    nova_string += primeira_string[index]\n",
        "    nova_string += segunda_string[index]\n",
        "    count += 1\n",
        "  nova_string += segunda_string[count:]\n",
        "elif len(primeira_string) == len(segunda_string):\n",
        "  for index, caractere_a in enumerate(primeira_string):\n",
        "    nova_string += primeira_string[index]\n",
        "    nova_string += segunda_string[index]\n",
        "else:\n",
        "  count = 0\n",
        "  for index, caractere_a in enumerate(segunda_string):\n",
        "    nova_string += primeira_string[index]\n",
        "    nova_string += segunda_string[index]\n",
        "    count += 1\n",
        "  nova_string += primeira_string[count:]\n",
        "\n",
        "print(nova_string)"
      ],
      "metadata": {
        "id": "ZSRS63YvKNfb"
      },
      "execution_count": null,
      "outputs": []
    },
    {
      "cell_type": "markdown",
      "source": [
        "# Pantograma"
      ],
      "metadata": {
        "id": "x1_J-NwyO21b"
      }
    },
    {
      "cell_type": "markdown",
      "source": [
        "Um pantograma ou pangrama (do grego, pan ou pantós = todos, + grama = letra) é uma frase em que são usadas todas as letras do alfabeto de determinada língua.\n",
        "\n",
        "Crie um programa que permita verificar se uma frase é ou não um pantograma. Considere que o usuário digitará apenas uma frase.\n",
        "\n",
        "Entrada:\n",
        "- A entrada contém uma frase sem acentos que pode ter letras maiúsculas ou minúsculas, ou sinais de pontuação.\n",
        "\n",
        "Saída:\n",
        "- O programa deve imprimir SIM se a frase corresponde a um pantograma. Caso contrário, o programa deve imprimir NAO (sem acento).\n",
        "\n",
        "Exemplos:\n",
        "- Quem traz CD, LP, fax, engov e whisky JB? -> SIM\n",
        "- Bancos futeis pagavam-lhe queijo, whisky e xadrez. -> SIM\n",
        "- The quick brown fox jumps over the lazy dog. -> SIM\n",
        "- El veloz murcielago hindu comia feliz cardillo y kiwi -> SIM\n",
        "- Esta frase nao eh um pantograma -> NAO"
      ],
      "metadata": {
        "id": "5q0BB1piO3wr"
      }
    },
    {
      "cell_type": "code",
      "source": [
        "string = input()\n",
        "letras = 'abcdefghijlmnopqrstuvwxyz'\n",
        "letras_ja_contabilizadas = ''\n",
        "\n",
        "for caractere in string:\n",
        "  if caractere.lower() in letras:\n",
        "    if caractere.lower() not in letras_ja_contabilizadas:\n",
        "        letras_ja_contabilizadas += caractere.lower()\n",
        "\n",
        "if len(letras_ja_contabilizadas) == len(letras):\n",
        "  print('SIM')\n",
        "else: \n",
        "  print('NAO')"
      ],
      "metadata": {
        "id": "UERnGBQSOZXT"
      },
      "execution_count": null,
      "outputs": []
    },
    {
      "cell_type": "markdown",
      "source": [
        "# Palíndromo\n",
        "\n",
        "Palíndromos são palavras ou frases que podem ser lidas da esquerda para a direita ou da direita para a esquerda. As seguintes palavras são exemplos de palíndromos: Arara, osso, socos\n",
        "\n",
        "Escreva um programa que verifique se uma dada palavra é um palíndromo.\n",
        "\n",
        "Entrada:\n",
        "- A entrada contém uma única palavra.\n",
        "\n",
        "Saída:\n",
        "- O seu programa deve imprimir PALINDROMO, se a palavra recebida for um palíndromo, e NAO PALINDROMO, caso contrário.\n",
        "\n",
        "Exemplos:\n",
        "- arara -> PALINDROMO\n",
        "- hoje -> NAO PALINDROMO\n",
        "- ovo -> PALINDROMO"
      ],
      "metadata": {
        "id": "8dHSSl-MQTGT"
      }
    },
    {
      "cell_type": "code",
      "source": [
        "palavra = input()\n",
        "palavra_ao_contrario = ''\n",
        "\n",
        "for letra in palavra[::-1]:\n",
        "  palavra_ao_contrario += letra\n",
        "\n",
        "if palavra.lower() == palavra_ao_contrario.lower():\n",
        "  print('PALINDROMO')\n",
        "else:\n",
        "  print('NAO PALINDROMO')"
      ],
      "metadata": {
        "id": "hOCN6IBjQdFT"
      },
      "execution_count": null,
      "outputs": []
    },
    {
      "cell_type": "markdown",
      "source": [
        "# Conta Padrões"
      ],
      "metadata": {
        "id": "mUkkEB8nRUnL"
      }
    },
    {
      "cell_type": "markdown",
      "source": [
        "Faça um programa que permita ler duas strings A e B e conta quantas vezes B ocorre em A. Por exemplo, se A=“a arara bicou a jararaca” e B=“ara”, temos que B ocorre 4 vezes em A. Considere que o usuário digitará apenas strings sem acento.\n",
        "\n",
        "Entrada:\n",
        "- A entrada contém duas strings, sem acentos, que podem ter letras maiúsculas ou minúsculas, espaços e caracteres especiais.\n",
        "\n",
        "Saída:\n",
        "- Seu programa deve imprimir na tela quantas vezes a segunda string ocorre dentro da primeira string.\n",
        "\n",
        "Exemplos:\n",
        "- banana ana 2\n",
        "- fiz o roque grande. xadrez -> 0\n",
        "- aaaaaaaaa a -> 9\n",
        "- a arara bicou a jararaca -> 4"
      ],
      "metadata": {
        "id": "H-wG8ILWRWVM"
      }
    },
    {
      "cell_type": "code",
      "source": [
        "string_inteira = input()\n",
        "string_parte = input()\n",
        "\n",
        "count_occurencies = 0\n",
        "for index, caractere in enumerate(string_inteira):\n",
        "  if string_inteira[index:index + len(string_parte)] == string_parte:\n",
        "    count_occurencies += 1\n",
        "\n",
        "print(count_occurencies)"
      ],
      "metadata": {
        "id": "nviWPWl8Re20"
      },
      "execution_count": null,
      "outputs": []
    },
    {
      "cell_type": "markdown",
      "source": [
        "# Contando Caracters"
      ],
      "metadata": {
        "id": "9n7MtCSGSj5c"
      }
    },
    {
      "cell_type": "markdown",
      "source": [
        "Faça um programa que lê uma string e conta o número de vogais, consoantes, espaços e pontuações (caracteres “.”,“,”,“!”,“?”,\"-\").\n",
        "\n",
        "Observação: é proibido o uso de funções auxiliares, como o  count(), por exemplo.\n",
        "\n",
        "Entrada:\n",
        "- Uma string podendo conter apenas vogais, consoantes, espaços e pontuações (caracteres “.”,“,”,“!”,“?”,\"-\").\n",
        "\n",
        "Saída\n",
        "- A saída do programa deve ser a porcentagem de cada tipo de caractere na string, com 2 casas após a vírgula."
      ],
      "metadata": {
        "id": "M-RQ1BJcSp3T"
      }
    },
    {
      "cell_type": "markdown",
      "source": [
        "Exemplos:\n",
        "- Um exercicio facil! -> Vogais: 42.11%\n",
        "- Mesmo que a realidade seja um pesadelo, nao podemos deixar de sonhar. -> Vogais: 40.58% Consoantes: 40.58% Espacos: 15.94% Pontuacoes: 2.90%"
      ],
      "metadata": {
        "id": "vW72U34gStKq"
      }
    },
    {
      "cell_type": "code",
      "source": [
        "vogais = 'aeiou'\n",
        "consoantes = 'bcdfghjklmnpqrstvwxyz'\n",
        "espaco = ' '\n",
        "pontuacoes = '.,!,?-'\n",
        "\n",
        "string = input()\n",
        "\n",
        "count_vogais = 0\n",
        "count_consoantes = 0\n",
        "count_espacos = 0\n",
        "count_pontuacoes = 0\n",
        "\n",
        "for caractere in string:\n",
        "  if caractere.lower() in vogais:\n",
        "    count_vogais += 1\n",
        "  if caractere.lower() in consoantes:\n",
        "    count_consoantes += 1\n",
        "  if caractere.lower() in espaco:\n",
        "    count_espacos += 1\n",
        "  if caractere.lower() in pontuacoes:\n",
        "    count_pontuacoes += 1\n",
        "\n",
        "\n",
        "count_total = count_vogais + count_consoantes + count_espacos + count_pontuacoes\n",
        "percent_vogais = (count_vogais / count_total) * 100\n",
        "percent_consoantes = (count_consoantes / count_total) * 100\n",
        "percent_espacos = (count_espacos / count_total) * 100\n",
        "percent_pontuacoes = (count_pontuacoes / count_total) * 100\n",
        "\n",
        "print('Vogais: %.2f'%percent_vogais+'%')\n",
        "print('Consoantes: %.2f'%percent_consoantes+'%')\n",
        "print('Espacos: %.2f'%percent_espacos+'%')\n",
        "print('Pontuacoes: %.2f'%percent_pontuacoes+'%')"
      ],
      "metadata": {
        "id": "tGbHJ6_2SswD"
      },
      "execution_count": null,
      "outputs": []
    },
    {
      "cell_type": "markdown",
      "source": [
        "# Parênteses"
      ],
      "metadata": {
        "id": "rxpOnojQU0DU"
      }
    },
    {
      "cell_type": "markdown",
      "source": [
        "Escreva um programa que verifica o uso correto de parênteses em uma equação. Para os fins deste exercício, consideramos que o uso de parênteses foi empregado de forma adequada se cada ( possui o seu respectivo ).\n",
        "\n",
        "Entrada:\n",
        "- A entrada contém uma única linha com a descrição de uma equação.\n",
        "\n",
        "Saída:\n",
        "- O seu programa deve imprimir Erro na parentizacao, se o uso de parêntese não foi empregado corretamente, e Parentizacao correta, caso contrário.\n",
        "\n",
        "Exemplos:\n",
        "- 8 + (9 + 10) -> Parentizacao correta\n",
        "- ((9 + (5 + 8) + 10) + (3+10)) + 5 -> Parentizacao correta\n",
        "- 3 * (8 + (5 * 9 ^ 8) + 3 -> Erro na paretizacao\n",
        "- 34 + 34 -> Parentizacao correta"
      ],
      "metadata": {
        "id": "R73OyWwQU1bj"
      }
    },
    {
      "cell_type": "code",
      "source": [
        "string = input()\n",
        "\n",
        "parentizacao_correta = True\n",
        "abriu_parentesis = []\n",
        "fechou_parentesis = []\n",
        "for index, caractere in enumerate(string):\n",
        "  if caractere == '(':\n",
        "    abriu_parentesis.append(index)\n",
        "  elif caractere == ')':\n",
        "    fechou_parentesis.append(index)\n",
        "\n",
        "\n",
        "if len(fechou_parentesis) > len(abriu_parentesis):\n",
        "  maior_quantidade_parentesis = fechou_parentesis\n",
        "else:\n",
        "  maior_quantidade_parentesis = abriu_parentesis\n",
        "\n",
        "for i in range(len(maior_quantidade_parentesis)):\n",
        "  if len(fechou_parentesis) != len(abriu_parentesis):\n",
        "    parentizacao_correta = False\n",
        "  elif fechou_parentesis != None and abriu_parentesis != None:\n",
        "      if abriu_parentesis[i] > fechou_parentesis[i]:\n",
        "        parentizacao_correta = False\n",
        "\n",
        "if parentizacao_correta:\n",
        "  print('Parentizacao correta')\n",
        "else:\n",
        "  print('Erro na parentizacao')"
      ],
      "metadata": {
        "id": "kHvLIZe-VEjk"
      },
      "execution_count": null,
      "outputs": []
    },
    {
      "cell_type": "markdown",
      "source": [
        "# Maior Palavra"
      ],
      "metadata": {
        "id": "5mCuPMi8Z5ns"
      }
    },
    {
      "cell_type": "markdown",
      "source": [
        "Escreva um programa que determina o tamanho da maior palavra de um texto.\n",
        "\n",
        "Entrada\n",
        "- A primeira linha da entrada consiste de um único número inteiro que representa o número de linhas do texto.\n",
        "- As próximas N linhas contém as linhas do texto.\n",
        "\n",
        "Saída\n",
        "- A saída deve consistir de uma única linha contendo a frase Tam. Maior Palavra: seguido do número de caracteres da maior palavra (separados por espaço).\n",
        "\n",
        "Observação:\n",
        "- Você não pode usar a função split ou qualquer outra função de manipulação de strings do Python.\n",
        "\n",
        "Exemplos:\n",
        "- A toalha é um dos objetos mais úteis para um mochileiro interestelar\n",
        " - Tam. Maior Palavra: 12"
      ],
      "metadata": {
        "id": "JSe3pEO8Z7sL"
      }
    },
    {
      "cell_type": "code",
      "source": [
        "quantidade_de_linhas = float(input())\n",
        "texto = []\n",
        "lista_de_palavras = []\n",
        "\n",
        "for i in range(int(quantidade_de_linhas)):\n",
        "  texto.append(input())\n",
        "\n",
        "for linha in texto:\n",
        "  palavra = ''\n",
        "  for caractere in linha:\n",
        "    if caractere == ' ':\n",
        "      lista_de_palavras.append(palavra)\n",
        "      palavra = ''\n",
        "    else:\n",
        "      palavra += caractere\n",
        "\n",
        "\n",
        "\n",
        "ranking = {'palavra': '', 'tamanho': 0}\n",
        "for palavra in lista_de_palavras:\n",
        "  if len(palavra) > ranking['tamanho']:\n",
        "    ranking['palavra'] = palavra\n",
        "    ranking['tamanho'] = len(palavra)\n",
        "\n",
        "print('Tam. Maior Palavra: %.f'%ranking['tamanho'])"
      ],
      "metadata": {
        "colab": {
          "base_uri": "https://localhost:8080/"
        },
        "id": "tmdY2AXkaC7s",
        "outputId": "3676389e-f7f3-4eee-c9a5-8e09bbf0bea9"
      },
      "execution_count": 14,
      "outputs": [
        {
          "output_type": "stream",
          "name": "stdout",
          "text": [
            "2\n",
            "Existe uma teoria que diz que se um dia alguém descobrir exatamente para que\n",
            "Existe uma teoria que diz que se um dia alguém descobrir exatamente para que\n",
            "Tam. Maior Palavra: 10\n"
          ]
        }
      ]
    }
  ]
}
