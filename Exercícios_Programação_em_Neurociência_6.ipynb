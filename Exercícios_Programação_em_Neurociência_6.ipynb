{
  "nbformat": 4,
  "nbformat_minor": 0,
  "metadata": {
    "colab": {
      "provenance": [],
      "collapsed_sections": [],
      "authorship_tag": "ABX9TyP6g01vp7QuV8NPhNOXfkck",
      "include_colab_link": true
    },
    "kernelspec": {
      "name": "python3",
      "display_name": "Python 3"
    },
    "language_info": {
      "name": "python"
    }
  },
  "cells": [
    {
      "cell_type": "markdown",
      "metadata": {
        "id": "view-in-github",
        "colab_type": "text"
      },
      "source": [
        "<a href=\"https://colab.research.google.com/github/dantebarross/neuroscience/blob/main/Exerc%C3%ADcios_Programa%C3%A7%C3%A3o_em_Neuroci%C3%AAncia_6.ipynb\" target=\"_parent\"><img src=\"https://colab.research.google.com/assets/colab-badge.svg\" alt=\"Open In Colab\"/></a>"
      ]
    },
    {
      "cell_type": "markdown",
      "source": [
        "# Soma X"
      ],
      "metadata": {
        "id": "iHKR8hrKEy-m"
      }
    },
    {
      "cell_type": "markdown",
      "source": [
        "Faça um programa que:\n",
        "- leia um número inteiro ímpar N (N ≥ 1);\n",
        "- leia uma matriz quadrada de dimensões N × N de números inteiros; e\n",
        "- calcule e imprima a soma dos elementos que formam o “X” de uma matriz. A figura a seguir exibe uma representação esquemática de tais elementos (elementos pintados de cinza)."
      ],
      "metadata": {
        "id": "pumsdCswE2fN"
      }
    },
    {
      "cell_type": "markdown",
      "source": [
        "![image.png](data:image/png;base64,iVBORw0KGgoAAAANSUhEUgAAAHoAAACECAIAAADQo6jaAAAFGElEQVR4nO2dzS87axiG+6Ha0kFSrUQEiYRELCwsxK4r/gQLIhIrCYklK+xEJdY25Bf+ASwolZSmO7ERjVhoq4KZop860zI9C4loFyfn9Gmfac65r92bxvPeuTIm/bjzjr5QKOgAFwatA/y/gG5W6n4vXl5evF4vcWIsFsvlcpQJuVwuHo87nU7KkEQi0dzcTJmgKIrRaOzs7KQM6e7uHhkZ+Vnqf9+75+fnt7e37XY7ZYNYLNbf32+1WsueEAwGM5nM0NAQJcbl5SUxxs3NTSKRaG9vp8QIh8Pv7+8tLS3fy7qSlwcGBsbGxigbuN1uj8fzs0EZzMzMXF5e+nw+SgxBEIgxpqamPB7P9PQ0JcbGxsbvJe7drFRed428s6zNGLi6WYFuVqCblcrr1uv1FZ9ZBrUZA1c3K9DNCnSzAt2sQDcr0M0KdLMC3axANyvQzQp0swLdrEA3K9DNCnSzAt2sFBUfWltbHQ5HJBKhTFRV9c+fP01NTWVPCAaDLy8vu7u7lBhOp3NpaYlYdzEYDIlEghJDluXfy6Jaz8TExOnpaV9fH2UDv99vMpkoP6bk8/lCoSAIAiVGNpt1OBx1daVFmn+OJEmfn5/Dw8OUGOfn58/Pz21tbd/LojQmk2l8fHxzc5OygdlsXlhYsFgsZU/w+Xzv7+9XV1fEGJOTk/QYxHZRU1OT2Wz+WeLezQp0VxfUerQEulmBblagu7qg1qMl0M0KdLMC3axANyvQzQp0swLdrEA3K9DNCnSzAt2sQDcr0M0KdLMC3awUFR8aGxsfHx/X1tYoEwuFQigUamxsLHuCJEnJZHJubo4YIxKJUGo9kiTJsry1tUWJUVLrKT0c6eLiQhRFygb5fP7w8NBoNJY9QVXVXC53cHBAjLG/v0+JYTAYvr6+9vb2iDEURflZFum22Wz0Wo/BYLi+vu7q6ip7gsvlkmWZeGjQysoKMcbs7Gx9fT3RBmo9WgLd1QW1Hi2BblagmxXori6o9WgJdLMC3axANyvQzQp0swLd1QUf4rUEuqsLPuZoCXSzAt2sQDcr0M0KdLMC3awUFR+sVms0Gl1fX6dM1Ov1y8vLNput7AmpVCoejz88PFBidHR0rK6uNjQ0lD3h4eFBVdUq1npEUfT7/ZIkUTZQVfXo6Oh3ueLfIoqioiixWIwSI5vNHh8fU07reX19VVU1nU5TYvxdrUcQhIrUesbHxylPv8JpPaAyQHd1wTeCWgLdrEA3K9BdXfB9t5ZANyvQzQp0swLdrEA3K9DNCnSzAt2sQDcr0M0KdLMC3axANyvQzQp0s1JUfJBl+f7+fmdnhzg0Go2mUqmy/7wix+TodDriaT3pdPrz85N4aFA2m/29LHoI1+joqNfrNZlMlA0URbHZbAZD+f8338fkDA4OUmIEAgGr1UqJ4XQ6n56e7HY7JUY4HL69ve3t7f1eFl3dfX19yWSSeEyO2+2ORCKUWk9FjskRBIEYw+Vy2e12+qFBqPVoRuV1lxRZtKJGYpSAq5sV6GYFulmpvG7Kc1grSI3EKAFXNyvQzQp0swLdrEA3K9DNCnSzAt2sQDcr0M0KdLMC3axANyvQzQp0swLdrBQVHywWi6IoHx8flIlfX18nJyeUeoYoivF4/OzsTNsYmUzm7e2N+Iyskl+oi2o9gUBgcXGRMl2n093d3fX09FD6NMlkMp1Ot7e3axvj6ekpGo3W19dTYuh0ulAo9FN30ddmQeC/Cu7drPwF9BjxtWLlhUsAAAAASUVORK5CYII=)"
      ],
      "metadata": {
        "id": "ZKDf-qZsE4l2"
      }
    },
    {
      "cell_type": "markdown",
      "source": [
        "Obs: quando n=1, o “X” da matriz é constituído do único elemento da matriz.\n",
        "\n",
        "Entrada:\n",
        "- A primeira linha da entrada consiste de um único número inteiro N (N ≥ 1) que indica o número de linhas da matriz de entrada. Os valores contidos na matriz são apresentados nas próximas N linhas da entrada, em que cada linha apresenta os valores contidos em uma linha da matriz (separados por espaço). Os valores contidos na matriz são números inteiros, possivelmente negativos.\n",
        "\n",
        "Saída:\n",
        "- A saída do seu programa deve consistir de uma única linha contendo a palavra “X = ”, seguida do valor da soma dos elementos no X da matriz.\n",
        "\n",
        "Exemplos:\n",
        "- 1; 3 -> X = 3\n",
        "- 3; 2 1 0; 3 2 8; 9 5 3 -> X = 16\n",
        "- 5; 2 2 2 2 2; 3 3 3 3 3; 4 4 4 4 4; 5 5 5 5 5; 6 6 6 6 6 -> X = 36"
      ],
      "metadata": {
        "id": "e-M3-irrE529"
      }
    },
    {
      "cell_type": "code",
      "source": [
        "def gerando_lista_de_numeros(lista_de_strings):\n",
        "  lista_de_numeros = []\n",
        "  numero = ''\n",
        "  for element in (lista_de_strings + ' '): \n",
        "    if element != ' ':\n",
        "      numero += element\n",
        "    else:\n",
        "      lista_de_numeros.append(int(numero))\n",
        "      numero = ''\n",
        "\n",
        "  return lista_de_numeros"
      ],
      "metadata": {
        "id": "L1n4zYKhFvGv"
      },
      "execution_count": null,
      "outputs": []
    },
    {
      "cell_type": "code",
      "execution_count": null,
      "metadata": {
        "colab": {
          "base_uri": "https://localhost:8080/"
        },
        "id": "yTu_4JhkERK2",
        "outputId": "402275b7-8096-42de-a109-e34d9fb69bf9"
      },
      "outputs": [
        {
          "output_type": "stream",
          "name": "stdout",
          "text": [
            "1\n",
            "3\n",
            "X = 3\n"
          ]
        }
      ],
      "source": [
        "import math\n",
        "\n",
        "\n",
        "numero_de_linhas = int(input())\n",
        "linha_central = math.ceil(numero_de_linhas / 2)\n",
        "\n",
        "matriz = []\n",
        "for _ in range(numero_de_linhas):\n",
        "  matriz.append(gerando_lista_de_numeros(input()))\n",
        "\n",
        "\n",
        "matriz_impar = False\n",
        "if len(matriz) % 2 == 1:\n",
        "  matriz_impar = True\n",
        "\n",
        "\n",
        "if numero_de_linhas == 1:\n",
        "  print(f'X = {matriz[0][0]}')\n",
        "else:\n",
        "  sum_total = 0\n",
        "  pos = 1\n",
        "  for index, linha in enumerate(matriz):\n",
        "    if index == linha_central - 1:\n",
        "      sum = linha[pos-1]\n",
        "    else:\n",
        "      sum = linha[pos-1] + linha[-pos]    \n",
        "    pos += 1\n",
        "    sum_total += sum\n",
        "  \n",
        "  print(f'X = {sum_total}')"
      ]
    },
    {
      "cell_type": "markdown",
      "source": [
        "# Soma Borda"
      ],
      "metadata": {
        "id": "EFHvRAoxL7ni"
      }
    },
    {
      "cell_type": "markdown",
      "source": [
        "Escreva um programa que:\n",
        "- leia dois números inteiros n≥3 e m≥3 (não precisa fazer validação, isto é, suponha que n e m são fornecidos corretamente);\n",
        "- leia uma matriz M com n linhas e m colunas de números reais;\n",
        "- compute e imprima a soma dos elementos posicionados na \"borda\" da matriz.\n",
        "\n",
        "Aqui uma representação esquemática do que seria a “borda” (os elementos pintados de cinza) de uma matriz:"
      ],
      "metadata": {
        "id": "CP7UL6tjL-b6"
      }
    },
    {
      "cell_type": "markdown",
      "source": [
        "![image.png](data:image/png;base64,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)"
      ],
      "metadata": {
        "id": "0FDkw1pTMA66"
      }
    },
    {
      "cell_type": "markdown",
      "source": [
        "Entrada:\n",
        "- A entrada são dois números inteiros (maiores ou iguais a 3), seguidos dos elementos da matriz. Note que nos exemplos abaixo a primeira linha é usada para ler esses dois números inteiros (com um espaço entre eles). Note também que os elementos da matriz são lidos no formato tradicional de matriz, isto é, são lidos linha a linha, com um espaço entre dois elementos da mesma linha.\n",
        "\n",
        "Saída:\n",
        "- Seu programa deve imprimir na tela o resultado usando duas casas decimais. Veja nos exemplos abaixo que na saída há o texto “Borda = ” precedendo o valor da soma propriamente.\n",
        "\n",
        "Exemplos:\n",
        "- 4 4; -1 2 3 4; 7 8 9 2; 5 6 4 7; 7 7 7 7\n",
        "- 3 3; 2 2 2; 3 3 3; 4 4 4\n",
        "- 3 4; 2.4 -2 4 6; 3 6 4 0; 1 1 1 1"
      ],
      "metadata": {
        "id": "BA0Qb0xNMCGa"
      }
    },
    {
      "cell_type": "code",
      "source": [
        "def gerando_lista_de_numeros(lista_de_strings):\n",
        "  lista_de_numeros = []\n",
        "  numero = ''\n",
        "  for element in (lista_de_strings + ' '): \n",
        "    if element != ' ':\n",
        "      numero += element\n",
        "    else:\n",
        "      lista_de_numeros.append(float(numero))\n",
        "      numero = ''\n",
        "\n",
        "  return lista_de_numeros\n",
        "\n",
        "\n",
        "def somar_elementos(lista):\n",
        "  soma = 0\n",
        "  for numero in lista:\n",
        "    soma += numero\n",
        "  return soma"
      ],
      "metadata": {
        "id": "mBx936hCMkSJ"
      },
      "execution_count": null,
      "outputs": []
    },
    {
      "cell_type": "code",
      "source": [
        "primeiro_input = gerando_lista_de_numeros(input())\n",
        "n = int(primeiro_input[0]) # linhas\n",
        "m = int(primeiro_input[1]) # colunas\n",
        "\n",
        "matriz = []\n",
        "\n",
        "for i in range(n):\n",
        "  matriz.append(gerando_lista_de_numeros(input()))"
      ],
      "metadata": {
        "colab": {
          "base_uri": "https://localhost:8080/"
        },
        "id": "SJYGyLdLL7Qq",
        "outputId": "7f639716-eed5-46bf-877b-c4af40631deb"
      },
      "execution_count": null,
      "outputs": [
        {
          "name": "stdout",
          "output_type": "stream",
          "text": [
            "-1 2 3 4\n",
            "7 8 9 2\n",
            "5 6 4 7\n",
            "7 7 7 7\n"
          ]
        }
      ]
    },
    {
      "cell_type": "code",
      "source": [
        "soma_primeira_linha = somar_elementos(matriz[0])\n",
        "soma_ultima_linha = somar_elementos(matriz[-1])\n",
        "\n",
        "soma_linhas_centrais = 0\n",
        "for linha in matriz[1:-1]: # range numero de linhas menos as duas que já foram somadas\n",
        "  soma_linhas_centrais += linha[0]\n",
        "  soma_linhas_centrais += linha[-1]\n",
        "\n",
        "soma_total = soma_primeira_linha + soma_ultima_linha + soma_linhas_centrais\n",
        "print('Borda = %.2f'%soma_total)"
      ],
      "metadata": {
        "colab": {
          "base_uri": "https://localhost:8080/"
        },
        "id": "j1PEu7ztNCdx",
        "outputId": "300fbdfc-d354-4ba7-95a0-a0500c897b5a"
      },
      "execution_count": null,
      "outputs": [
        {
          "output_type": "stream",
          "name": "stdout",
          "text": [
            "Borda = 57.00\n"
          ]
        }
      ]
    },
    {
      "cell_type": "markdown",
      "source": [
        "# Somas triangulares menos diagonal"
      ],
      "metadata": {
        "id": "rjhhsI8Fo2oS"
      }
    },
    {
      "cell_type": "markdown",
      "source": [
        "Faça um programa para:\n",
        "- ler um número inteiro n, n ≥ 1;\n",
        "- ler uma matriz quadrada n x n de números reais;\n",
        "- calcular e imprimir a soma dos elementos das triangulares superior e inferior menos a soma dos elementos da diagonal principal.\n",
        "\n",
        "Entrada:\n",
        "- A entrada é um número inteiro n estritamente positivo, seguidos dos elementos da matriz. Note também que os elementos da matriz são lidos no formato tradicional de matriz, isto é, são lidos linha a linha, com um espaço entre dois elementos da mesma linha.\n",
        "\n",
        "Saída:\n",
        "- Seu programa deve imprimir na tela o resultado usando duas casas decimais. Veja nos exemplos abaixo que na saída há o texto “Resultado = ” precedendo o valor do resultado propriamente.\n",
        "\n",
        "Exemplos:\n",
        "- 3; 2 2 2; 3 3 3; 4 4 4 -> Resultado = 9.00\n",
        "- 1; -7.4 -> Resultado = 7.40\n",
        "- 2; 2.6 5.7; 44 5.8 -> Resultado = 41.30"
      ],
      "metadata": {
        "id": "uIg4FzIko-co"
      }
    },
    {
      "cell_type": "markdown",
      "source": [
        "![image.png](data:image/png;base64,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)"
      ],
      "metadata": {
        "id": "JFiK1fN2p-fC"
      }
    },
    {
      "cell_type": "code",
      "source": [
        "def gerando_lista_de_numeros(lista_de_strings):\n",
        "  lista_de_numeros = []\n",
        "  numero = ''\n",
        "  for element in (lista_de_strings + ' '): \n",
        "    if element != ' ':\n",
        "      numero += element\n",
        "    else:\n",
        "      lista_de_numeros.append(float(numero))\n",
        "      numero = ''\n",
        "\n",
        "  return lista_de_numeros"
      ],
      "metadata": {
        "id": "3pVQHo-zpVhx"
      },
      "execution_count": 78,
      "outputs": []
    },
    {
      "cell_type": "code",
      "source": [
        "n = 20 # int(input()) # número de linhas\n",
        "\n",
        "# matriz = []\n",
        "# for i in range(n):\n",
        "#   matriz.append(gerando_lista_de_numeros(input()))\n",
        "# matriz\n",
        "\n",
        "\n",
        "matriz = [[9, 1, 1, 1, 1, 1, 1, 1, 1, 1, 1, 1, 1, 1, 1, 1, 1, 1, 1, 1],\n",
        "          [1, 9, 1, 1, 1, 1, 1, 1, 1, 1, 1, 1, 1, 1, 1, 1, 1, 1, 1, 1],\n",
        "          [1, 1, 8, 1, 1, 1, 1, 1, 1, 1, 1, 1, 1, 1, 1, 1, 1, 1, 1, 1],\n",
        "          [1, 1, 1, 9, 1, 1, 1, 1, 1, 1, 1, 1, 1, 1, 1, 1, 1, 1, 1, 1],\n",
        "          [1, 1, 1, 1, 1, 1, 1, 1, 1, 1, 1, 1, 1, 1, 1, 1, 1, 1, 1, 1],\n",
        "          [1, 1, 1, 1, 1, 1, 1, 1, 1, 1, 1, 1, 1, 1, 1, 1, 1, 1, 1, 1],\n",
        "          [1, 1, 1, 1, 1, 1, 1, 1, 1, 1, 1, 1, 1, 1, 1, 1, 1, 1, 1, 1],\n",
        "          [1, 1, 1, 1, 1, 1, 1, 1, 1, 1, 1, 1, 1, 1, 1, 1, 1, 1, 1, 1],\n",
        "          [1, 1, 1, 1, 1, 1, 1, 1, 1, 1, 1, 1, 1, 1, 1, 1, 1, 1, 1, 1],\n",
        "          [1, 1, 1, 1, 1, 1, 1, 1, 1, 1, 1, 1, 1, 1, 1, 1, 1, 1, 1, 1],\n",
        "          [1, 1, 1, 1, 1, 1, 1, 1, 1, 1, 1, 1, 1, 1, 1, 1, 1, 1, 1, 1],\n",
        "          [1, 1, 1, 1, 1, 1, 1, 1, 1, 1, 1, 1, 1, 1, 1, 1, 1, 1, 1, 1],\n",
        "          [1, 1, 1, 1, 1, 1, 1, 1, 1, 1, 1, 1, 1, 1, 1, 1, 1, 1, 1, 1],\n",
        "          [1, 1, 1, 1, 1, 1, 1, 1, 1, 1, 1, 1, 1, 1, 1, 1, 1, 1, 1, 1],\n",
        "          [1, 1, 1, 1, 1, 1, 1, 1, 1, 1, 1, 1, 1, 1, 9, 1, 1, 1, 1, 1],\n",
        "          [1, 1, 1, 1, 1, 1, 1, 1, 1, 1, 1, 1, 1, 1, 1, 9, 1, 1, 1, 1],\n",
        "          [1, 1, 1, 1, 1, 1, 1, 1, 1, 1, 1, 1, 1, 1, 1, 1, 9, 1, 1, 1],\n",
        "          [1, 1, 1, 1, 1, 1, 1, 1, 1, 1, 1, 1, 1, 1, 1, 1, 1, 9, 1, 1],\n",
        "          [1, 1, 1, 1, 1, 1, 1, 1, 1, 1, 1, 1, 1, 1, 1, 1, 1, 1, 9, 1],\n",
        "          [1, 1, 1, 1, 1, 1, 1, 1, 1, 1, 1, 1, 1, 1, 1, 1, 1, 1, 1, 9]]"
      ],
      "metadata": {
        "id": "GLsMuCm3pJKx"
      },
      "execution_count": 130,
      "outputs": []
    },
    {
      "cell_type": "code",
      "source": [
        "import itertools\n",
        "\n",
        "diagonal = []\n",
        "superior = []\n",
        "inferior = []\n",
        "\n",
        "index = 0\n",
        "for linha in matriz:\n",
        "  inferior.append(linha[:index])\n",
        "  diagonal.append(linha[index])\n",
        "  superior.append(linha[index+1:])\n",
        "  index += 1\n",
        "\n",
        "# Transformando lista de listas em uma lista flat\n",
        "superior = list(itertools.chain(*superior))\n",
        "inferior = list(itertools.chain(*inferior))\n",
        "\n",
        "total = sum(superior) + sum(inferior) - sum(diagonal)\n",
        "print('Resultado = %.2f'%total)"
      ],
      "metadata": {
        "colab": {
          "base_uri": "https://localhost:8080/"
        },
        "id": "omiDVrEurNOJ",
        "outputId": "c42fe37f-a7f5-4060-fdd0-7d91509a979e"
      },
      "execution_count": 132,
      "outputs": [
        {
          "output_type": "stream",
          "name": "stdout",
          "text": [
            "Resultado = 281.00\n"
          ]
        }
      ]
    },
    {
      "cell_type": "code",
      "source": [
        "print('diagonal:', diagonal)\n",
        "print('superior:', superior)\n",
        "print('inferior:', inferior)"
      ],
      "metadata": {
        "colab": {
          "base_uri": "https://localhost:8080/"
        },
        "id": "5Q9KQBCtsi7J",
        "outputId": "44b59629-1f44-4cfa-bbbd-ac780d9b6fe9"
      },
      "execution_count": 133,
      "outputs": [
        {
          "output_type": "stream",
          "name": "stdout",
          "text": [
            "diagonal: [9, 9, 8, 9, 1, 1, 1, 1, 1, 1, 1, 1, 1, 1, 9, 9, 9, 9, 9, 9]\n",
            "superior: [1, 1, 1, 1, 1, 1, 1, 1, 1, 1, 1, 1, 1, 1, 1, 1, 1, 1, 1, 1, 1, 1, 1, 1, 1, 1, 1, 1, 1, 1, 1, 1, 1, 1, 1, 1, 1, 1, 1, 1, 1, 1, 1, 1, 1, 1, 1, 1, 1, 1, 1, 1, 1, 1, 1, 1, 1, 1, 1, 1, 1, 1, 1, 1, 1, 1, 1, 1, 1, 1, 1, 1, 1, 1, 1, 1, 1, 1, 1, 1, 1, 1, 1, 1, 1, 1, 1, 1, 1, 1, 1, 1, 1, 1, 1, 1, 1, 1, 1, 1, 1, 1, 1, 1, 1, 1, 1, 1, 1, 1, 1, 1, 1, 1, 1, 1, 1, 1, 1, 1, 1, 1, 1, 1, 1, 1, 1, 1, 1, 1, 1, 1, 1, 1, 1, 1, 1, 1, 1, 1, 1, 1, 1, 1, 1, 1, 1, 1, 1, 1, 1, 1, 1, 1, 1, 1, 1, 1, 1, 1, 1, 1, 1, 1, 1, 1, 1, 1, 1, 1, 1, 1, 1, 1, 1, 1, 1, 1, 1, 1, 1, 1, 1, 1, 1, 1, 1, 1, 1, 1]\n",
            "inferior: [1, 1, 1, 1, 1, 1, 1, 1, 1, 1, 1, 1, 1, 1, 1, 1, 1, 1, 1, 1, 1, 1, 1, 1, 1, 1, 1, 1, 1, 1, 1, 1, 1, 1, 1, 1, 1, 1, 1, 1, 1, 1, 1, 1, 1, 1, 1, 1, 1, 1, 1, 1, 1, 1, 1, 1, 1, 1, 1, 1, 1, 1, 1, 1, 1, 1, 1, 1, 1, 1, 1, 1, 1, 1, 1, 1, 1, 1, 1, 1, 1, 1, 1, 1, 1, 1, 1, 1, 1, 1, 1, 1, 1, 1, 1, 1, 1, 1, 1, 1, 1, 1, 1, 1, 1, 1, 1, 1, 1, 1, 1, 1, 1, 1, 1, 1, 1, 1, 1, 1, 1, 1, 1, 1, 1, 1, 1, 1, 1, 1, 1, 1, 1, 1, 1, 1, 1, 1, 1, 1, 1, 1, 1, 1, 1, 1, 1, 1, 1, 1, 1, 1, 1, 1, 1, 1, 1, 1, 1, 1, 1, 1, 1, 1, 1, 1, 1, 1, 1, 1, 1, 1, 1, 1, 1, 1, 1, 1, 1, 1, 1, 1, 1, 1, 1, 1, 1, 1, 1, 1]\n"
          ]
        }
      ]
    },
    {
      "cell_type": "markdown",
      "source": [
        "# Matriz Triangular"
      ],
      "metadata": {
        "id": "ztBVb2E2wm87"
      }
    },
    {
      "cell_type": "markdown",
      "source": [
        "Uma matriz quadrada (com mesmo número de linhas e colunas) é chamada de triangular se todos os seus elementos abaixo ou acima da diagonal principal são nulos. Por exemplo, as matrizes A, B e C abaixo são matrizes triangulares:"
      ],
      "metadata": {
        "id": "BbdeY5MywpRL"
      }
    },
    {
      "cell_type": "markdown",
      "source": [
        "![image.png](data:image/png;base64,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)"
      ],
      "metadata": {
        "id": "5nUrxFlWwqYk"
      }
    },
    {
      "cell_type": "markdown",
      "source": [
        "Podemos ainda classificar as matrizes triangulares nos seguintes tipos:\n",
        "- quando todos os elementos acima da diagonal principal são nulos, diremos que a matriz é triangular inferior;\n",
        "- quando todos os elementos abaixo da diagonal principal são nulos, diremos que a matriz é triangular superior;\n",
        "- quando a matriz tem todos elementos nulos acima e abaixo da diagonal principal, diremos que a matriz é diagonal.\n",
        "\n",
        "Por exemplo, a matriz A acima é triangular superior, B é triangular inferior e C é diagonal.\n",
        "\n",
        "Neste exercício, você deve fazer um programa que lê uma matriz fornecida pela entrada e imprime na tela se a matriz é: nao triangular, triangular superior, triangular inferior ou diagonal.\n",
        "\n",
        "Entrada\n",
        "- A primeira linha da entrada contém o número de linhas da matriz (o número de colunas é igual ao de linhas, já que a matriz é quadrada). As demais linhas da entrada representam os elementos contidos nas linhas da matriz. Por exemplo, a matriz A é representada na entrada da seguinte forma:\n",
        "\n",
        "- 3\n",
        "- 1 2 3\n",
        "- 0 8 1\n",
        "- 0 0 1\n",
        "\n",
        "Os elementos da matriz podem ser qualquer número real.\n",
        "\n",
        "Saída\n",
        "- A saída deve dizer se a matriz fornecida é: nao triangular, triangular superior, triangular inferior ou diagonal.\n",
        "\n",
        "Exemplos:\n",
        "- 3; 1 0 0; 8 -2 0; 2 0 2 -> triangular inferior\n",
        "- 3; 1 2 3; 0 8 1; 0 0 1 -> triangular superior\n",
        "- 3; 3 0 0; 0 -1 0; 0 0 9 -> diagonal"
      ],
      "metadata": {
        "id": "3TXKI6CMwswD"
      }
    },
    {
      "cell_type": "code",
      "source": [
        "def gerando_lista_de_numeros(lista_de_strings):\n",
        "  lista_de_numeros = []\n",
        "  numero = ''\n",
        "  for element in (lista_de_strings + ' '): \n",
        "    if element != ' ':\n",
        "      numero += element\n",
        "    else:\n",
        "      lista_de_numeros.append(float(numero))\n",
        "      numero = ''\n",
        "\n",
        "  return lista_de_numeros"
      ],
      "metadata": {
        "id": "2UDZCllnyORE"
      },
      "execution_count": null,
      "outputs": []
    },
    {
      "cell_type": "code",
      "source": [
        "import itertools\n",
        "\n",
        "n = int(input()) # número de linhas\n",
        "\n",
        "matriz = []\n",
        "for i in range(n):\n",
        "  matriz.append(gerando_lista_de_numeros(input()))\n",
        "matriz\n",
        "\n",
        "diagonal = []\n",
        "superior = []\n",
        "inferior = []\n",
        "\n",
        "index = 0\n",
        "for linha in matriz:\n",
        "  superior.append(linha[:index])\n",
        "  diagonal.append(linha[index])\n",
        "  inferior.append(linha[index+1:])\n",
        "  index += 1\n",
        "\n",
        "# Transformando lista de listas em uma lista flat\n",
        "superior = list(itertools.chain(*superior))\n",
        "inferior = list(itertools.chain(*inferior))\n",
        "\n",
        "if sum(superior) == 0 and sum(inferior) == 0: print('diagonal')\n",
        "elif sum(superior) == 0 and sum(inferior) != 0: print('triangular superior')\n",
        "elif sum(superior) != 0 and sum(inferior) == 0: print('triangular inferior')\n",
        "else: print('nao triangular')"
      ],
      "metadata": {
        "colab": {
          "base_uri": "https://localhost:8080/"
        },
        "id": "8_3GgqRTw-6F",
        "outputId": "1f7c4ff3-4ae4-4ef6-8647-b284fd795db6"
      },
      "execution_count": 140,
      "outputs": [
        {
          "output_type": "stream",
          "name": "stdout",
          "text": [
            "triangular superior\n"
          ]
        }
      ]
    },
    {
      "cell_type": "markdown",
      "source": [
        "# Produto Matriz Vetor"
      ],
      "metadata": {
        "id": "SwLUFcHOy8TG"
      }
    },
    {
      "cell_type": "markdown",
      "source": [
        "Faça um programa que calcula o vetor resultante da multiplicação de uma matriz A, de dimensão nxm por um vetor x com m componentes. Por exemplo, se x é um vetor com 3 componentes e A é uma matriz de dimensão 2 por 3, como dado abaixo, então o vetor resultante y será:"
      ],
      "metadata": {
        "id": "dPI8Snd_y-pU"
      }
    },
    {
      "cell_type": "markdown",
      "source": [
        "![image.png](data:image/png;base64,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)"
      ],
      "metadata": {
        "id": "JpP7ox0Ay_zU"
      }
    },
    {
      "cell_type": "markdown",
      "source": [
        "Note que a multiplicação de vetores e matrizes somente fazem sentido se o número de componentes do vetor x for igual ao número de linhas da matriz A.\n",
        "Formalmente, podemos definir o vetor y resultante da multiplicação de A e x como sendo o vetor com n componentes dadas por:"
      ],
      "metadata": {
        "id": "HHYt8FkRzBEk"
      }
    },
    {
      "cell_type": "markdown",
      "source": [
        "![image.png](data:image/png;base64,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)"
      ],
      "metadata": {
        "id": "CxggMSsczByc"
      }
    },
    {
      "cell_type": "markdown",
      "source": [
        "Entrada\n",
        "- A primeira linha da entrada consiste em dois números inteiros n e m representando o número de linhas e colunas da matriz A. Em seguida, as demais linhas representam as linhas da matriz A. A última linha contém o vetor x.\n",
        "\n",
        "Saída\n",
        "- A saída deve conter o vetor resultante da múltiplicação y=Ax se a operação for possível. Os números devem ser exibidos com uma casa decimal. Se a operação não for possível, seu programa deve imprimir a mensagem: nao eh possivel fazer a operacao.\n",
        "\n",
        "Exemplos\n",
        "- 2 3; 1 1 4; 0 2 0; 1 2 3 -> 15.0; 4.0\n",
        "- 3 2; 1 2; 2 3; 4 5; 1 2 3 -> nao eh possivel fazer a operacao"
      ],
      "metadata": {
        "id": "dqtidX03zDY9"
      }
    },
    {
      "cell_type": "code",
      "source": [
        "def gerando_lista_de_numeros(lista_de_strings):\n",
        "  lista_de_numeros = []\n",
        "  numero = ''\n",
        "  for element in (lista_de_strings + ' '): \n",
        "    if element != ' ':\n",
        "      numero += element\n",
        "    else:\n",
        "      lista_de_numeros.append(int(numero))\n",
        "      numero = ''\n",
        "\n",
        "  return lista_de_numeros"
      ],
      "metadata": {
        "id": "pt_MO_eZz20k"
      },
      "execution_count": 164,
      "outputs": []
    },
    {
      "cell_type": "code",
      "source": [
        "# multiplicando matriz A (dimensão n x m) por um vetor x com m componentes\n",
        "primeiro_input = gerando_lista_de_numeros(input())\n",
        "dimensao_n = primeiro_input[0]\n",
        "dimensao_m = primeiro_input[1]\n",
        "\n",
        "A = [] # matriz principal\n",
        "\n",
        "for _ in range(dimensao_n):\n",
        "  A.append(gerando_lista_de_numeros(input()))\n",
        "\n",
        "x = gerando_lista_de_numeros(input()) # vetor de operação\n",
        "\n",
        "if len(x) != len(A[0]):\n",
        "  print('nao eh possivel fazer a operacao')\n",
        "else:\n",
        "  y = []\n",
        "  for vetor in A:\n",
        "    resultado_de_operacoes = []\n",
        "    for index, componente in enumerate(x):\n",
        "      operacao = componente * vetor[index]\n",
        "      resultado_de_operacoes.append(operacao)\n",
        "    y.append(sum(resultado_de_operacoes)) \n",
        "\n",
        "  for resultado in y:\n",
        "    print('%.1f'%resultado)"
      ],
      "metadata": {
        "colab": {
          "base_uri": "https://localhost:8080/"
        },
        "id": "fCaaFP0DzL6F",
        "outputId": "e3f465a9-b2e5-40bb-db78-fad0f0b11c5e"
      },
      "execution_count": 165,
      "outputs": [
        {
          "output_type": "stream",
          "name": "stdout",
          "text": [
            "1 1 4\n",
            "0 2 0\n",
            "1 2 3\n",
            "15.0\n",
            "4.0\n"
          ]
        }
      ]
    },
    {
      "cell_type": "markdown",
      "source": [
        "# Matriz Ortogonal"
      ],
      "metadata": {
        "id": "pp1z1i2g3ch-"
      }
    },
    {
      "cell_type": "markdown",
      "source": [
        "Uma matriz A quadrada (isto é, como o mesmo número de linhas e colunas) é ortogonal se AAt=I, em que I é a matriz identidade. Lembre-se que uma matriz identidade é quadrada, possui somente uns na sua diagonal principal e zeros nas demais componentes.\n",
        "\n",
        "Por exemplo, a matriz A dada abaixo..."
      ],
      "metadata": {
        "id": "LBphXQtm3ez_"
      }
    },
    {
      "cell_type": "markdown",
      "source": [
        "![image.png](data:image/png;base64,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)"
      ],
      "metadata": {
        "id": "WaY1J-MA3gEP"
      }
    },
    {
      "cell_type": "markdown",
      "source": [
        "é ortogonal, já que..."
      ],
      "metadata": {
        "id": "pJEn6C0y3j0H"
      }
    },
    {
      "cell_type": "markdown",
      "source": [
        "![image.png](data:image/png;base64,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)"
      ],
      "metadata": {
        "id": "rGp5M6kl3lSW"
      }
    },
    {
      "cell_type": "markdown",
      "source": [
        "Entrada\n",
        "- A entrada consiste em um número n inteiro, representando o número de linhas da matriz, seguido das linhas da matriz com valores reais separados por espaços. Por exemplo, a matriz A do exemplo acima será representada na forma:\n",
        "\n",
        "- 2\n",
        "- 0.96 -0.28\n",
        "- 0.28 0.96\n",
        "\n",
        "Saída\n",
        "- A saída deve dizer se a matriz é ortogonal ou não.\n",
        "\n",
        "Exemplos:\n",
        "- 2; 0.96 -0.28; 0.28 0.96 -> ortogonal\n",
        "- 2; 0.96 -0.28 0; 0.28 0.96 0 -> nao ortogonal\n",
        "- 3; 2 4 6; 1 3 -5; -2 7 9 -> nao ortogonal"
      ],
      "metadata": {
        "id": "5cfaToPB3mju"
      }
    },
    {
      "cell_type": "code",
      "source": [
        "import numpy as np\n",
        "import itertools\n",
        "\n",
        "def gerando_lista_de_numeros(lista_de_strings):\n",
        "  lista_de_numeros = []\n",
        "  numero = ''\n",
        "  for element in (lista_de_strings + ' '): \n",
        "    if element != ' ':\n",
        "      numero += element\n",
        "    else:\n",
        "      lista_de_numeros.append(float(numero))\n",
        "      numero = ''\n",
        "\n",
        "  return lista_de_numeros\n",
        "\n",
        "\n",
        "def checando_matriz_identidade(matriz):\n",
        "  diagonal = []\n",
        "  superior = []\n",
        "  inferior = []\n",
        "\n",
        "  index = 0\n",
        "  for linha in matriz:\n",
        "    superior.append(linha[:index])\n",
        "    diagonal.append(linha[index])\n",
        "    inferior.append(linha[index+1:])\n",
        "    index += 1\n",
        "  \n",
        "  superior = list(itertools.chain(*superior))\n",
        "  inferior = list(itertools.chain(*inferior))\n",
        "\n",
        "\n",
        "  if sum(np.diff(diagonal)) == 0: # and sum(superior + inferior) == 0\n",
        "    print('ortogonal')\n",
        "  else:\n",
        "    print('nao ortogonal')\n",
        "\n",
        "\n",
        "def square(m):\n",
        "    return m.shape[0] == m.shape[1]"
      ],
      "metadata": {
        "id": "4GzAIgTx4YbG"
      },
      "execution_count": 259,
      "outputs": []
    },
    {
      "cell_type": "code",
      "source": [
        "numero_de_linhas = 4 # int(input())\n",
        "A = [[1, 0, 0, 0],\n",
        "     [0, 0, 0, 1],\n",
        "     [0, 1, 0, 0],\n",
        "     [0, 0, 1, 0]]\n",
        "\n",
        "# for _ in range(numero_de_linhas):\n",
        "#   A.append(gerando_lista_de_numeros(input()))\n",
        "\n",
        "A = np.array(A)\n",
        "A_t=np.array(A, dtype='object').transpose()\n",
        "\n",
        "if numero_de_linhas <= 1:\n",
        "  print('nao ortogonal')\n",
        "elif square(A):\n",
        "  matriz_multiplicada = np.multiply(A, A_t)\n",
        "  checando_matriz_identidade(A)\n",
        "else:\n",
        "  print('nao ortogonal')\n",
        "\n",
        "print(A)\n",
        "\n",
        "for index_row, element in enumerate(A):\n",
        "  for index_column, element in enumerate(A):\n",
        "    if A[index_row][index_column] == A_t[index_row][index_column]:\n",
        "      A[index_row][index_column] = 1\n",
        "    else:\n",
        "      A[index_row][index_column] = 0"
      ],
      "metadata": {
        "colab": {
          "base_uri": "https://localhost:8080/"
        },
        "id": "ihNxLH5D3z7w",
        "outputId": "77f40aed-ed90-4c3f-b53f-3c08c539c662"
      },
      "execution_count": 260,
      "outputs": [
        {
          "output_type": "stream",
          "name": "stdout",
          "text": [
            "[1, 0, 0, 0]\n",
            "nao ortogonal\n"
          ]
        }
      ]
    },
    {
      "cell_type": "code",
      "source": [
        "A"
      ],
      "metadata": {
        "colab": {
          "base_uri": "https://localhost:8080/"
        },
        "id": "u9DuaqlRErXT",
        "outputId": "242db4c9-e4ea-4b41-a1f4-15faf0700133"
      },
      "execution_count": 252,
      "outputs": [
        {
          "output_type": "execute_result",
          "data": {
            "text/plain": [
              "array([[1, 0, 0, 0],\n",
              "       [0, 0, 0, 1],\n",
              "       [0, 1, 0, 0],\n",
              "       [0, 0, 1, 0]])"
            ]
          },
          "metadata": {},
          "execution_count": 252
        }
      ]
    },
    {
      "cell_type": "code",
      "source": [
        "A_t"
      ],
      "metadata": {
        "colab": {
          "base_uri": "https://localhost:8080/"
        },
        "id": "3v2ynbccEoRD",
        "outputId": "03467a60-91a7-4f4f-e886-9e28730b6112"
      },
      "execution_count": 253,
      "outputs": [
        {
          "output_type": "execute_result",
          "data": {
            "text/plain": [
              "array([[1, 0, 0, 0],\n",
              "       [0, 0, 1, 0],\n",
              "       [0, 0, 0, 1],\n",
              "       [0, 1, 0, 0]], dtype=object)"
            ]
          },
          "metadata": {},
          "execution_count": 253
        }
      ]
    },
    {
      "cell_type": "markdown",
      "source": [
        "# Caça Palavras"
      ],
      "metadata": {
        "id": "d92d8YaBJZwW"
      }
    },
    {
      "cell_type": "markdown",
      "source": [
        "Um caça palavras é um jogo que muitas vezes é utilizado para treinar a habilidade de percepção dado que nela estão escondidas palavras no meio de várias letras.\n",
        "\n",
        "Seu objetivo é criar um programa que permita caçar palavras com as seguintes restrições:\n",
        "- apenas palavras escondidas na horizontal\n",
        "- somente duas palavras\n",
        "- as palavras podem estar posicionadas também ao contrário; e\n",
        "- o tabuleiro será composto de letras sem acento, sem números e sem sinais de pontuação, com dimensão de 16 linhas e 22 colunas.\n",
        "\n",
        "Entrada:\n",
        "- As duas primeiras linhas da entrada consistem de palavras, sem acento, sem espaços e sempre em maiúsculas. As seguintes 16 linhas correspondem às linhas do tabuleiro. Cada coluna está separada por um espaço em branco.\n",
        "\n",
        "Saída:\n",
        "- A saída do seu programa deve ser “SIM” caso as duas palavras estejam no tabuleiro. Caso contrário deve ser “NAO”.\n",
        "\n",
        "Exemplos:"
      ],
      "metadata": {
        "id": "cpVx0Kt3JbX1"
      }
    },
    {
      "cell_type": "markdown",
      "source": [
        "![image.png](data:image/png;base64,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)"
      ],
      "metadata": {
        "id": "2t6GJ_4QJhae"
      }
    },
    {
      "cell_type": "code",
      "source": [
        "palavra_1 = input()\n",
        "palavra_2 = input()\n",
        "\n",
        "tabuleiro = []\n",
        "for _ in range(16):\n",
        "  tabuleiro.append(input())\n",
        "  \n",
        "# criando tabuleiro sem nenhum espaço\n",
        "tabuleiro_sem_espaco = []\n",
        "for linha in tabuleiro:\n",
        "  linha_nova = ''\n",
        "  for caractere in linha:\n",
        "    if caractere != ' ':\n",
        "      linha_nova += caractere\n",
        "  tabuleiro_sem_espaco.append(linha_nova)\n",
        "\n",
        "# Checando se tem palavra 1 ou 2\n",
        "tem_palavra_1 = False\n",
        "tem_palavra_2 = False\n",
        "for linha in tabuleiro_sem_espaco:\n",
        "  linha_ao_contrario = linha[::-1]\n",
        "  for i in range(len(linha)):\n",
        "    parte_selecionada_1 = linha[i:i+len(palavra_1)]\n",
        "    parte_selecionada_1_reverse = linha_ao_contrario[i:i+len(palavra_1)]\n",
        "    parte_selecionada_2 = linha[i:i+len(palavra_2)]\n",
        "    parte_selecionada_2_reverse = linha_ao_contrario[i:i+len(palavra_2)]\n",
        "    if parte_selecionada_1 == palavra_1 or parte_selecionada_1_reverse == palavra_1:\n",
        "      tem_palavra_1 = True\n",
        "    if parte_selecionada_2 == palavra_2 or parte_selecionada_2_reverse == palavra_2:\n",
        "      tem_palavra_2 = True\n",
        "\n",
        "\n",
        "if tem_palavra_1 == True and tem_palavra_2 == True:\n",
        "  print('SIM')\n",
        "else: print('NAO')"
      ],
      "metadata": {
        "colab": {
          "base_uri": "https://localhost:8080/"
        },
        "id": "D8JBeypKJh_O",
        "outputId": "641e9160-c134-4148-94ab-b99c167a1f66"
      },
      "execution_count": 298,
      "outputs": [
        {
          "output_type": "stream",
          "name": "stdout",
          "text": [
            "True True\n",
            "SIM\n"
          ]
        }
      ]
    },
    {
      "cell_type": "markdown",
      "source": [
        "# O Despertar da Força"
      ],
      "metadata": {
        "id": "18XLbQTfWdAs"
      }
    },
    {
      "cell_type": "markdown",
      "source": [
        "Há muito tempo atrás, em uma galáxia muito, muito distante...\n",
        "\n",
        "Após o declínio do Império, sucateiros estão espalhados por todo o universo procurando por um sabre de luz perdido. Todos sabem que um sabre de luz emite um padrão de ondas específico: 42 cercado por 7 em toda a volta. Você tem um sensor de ondas que varre um terreno com M x N células. Veja o exemplo abaixo para um terreno 4 x 7 com um sabre de luz nele (na posição (1,3))."
      ],
      "metadata": {
        "id": "rPAsS0v9Wf87"
      }
    },
    {
      "cell_type": "markdown",
      "source": [
        "![image.png](data:image/png;base64,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)"
      ],
      "metadata": {
        "id": "kesLLAMvWg5j"
      }
    },
    {
      "cell_type": "markdown",
      "source": [
        "Você deve escrever um programa que, dado um terreno M x N, procura pelo padrão do sabre de luz nele. Nenhuma varredura tem mais do que um padrão de sabre de luz.\n",
        "\n",
        "Entrada:\n",
        "- A primeira linha da entrada tem dois números positivos M e N, representando, respectivamente, o número de linhas e de colunas varridos no terreno (3 ≤ M, N ≤ 100). Cada uma das próximas M linhas tem N inteiros, que descrevem os valores lidos em cada célula do terreno.\n",
        "\n",
        "Saída:\n",
        "- A saída é uma única linha com 2 inteiros X e Y separados por um espaço em branco. Eles representam a coordenada (X, Y) do sabre de luz, caso encontrado. Se o terreno não tem um padrão de sabre de luz, X e Y são ambos -1.\n",
        "\n",
        "Exemplos:\n",
        "- 4 7; 11 12 7 7 7 13 14; 15 6 7 42 7 7 42; 98 -5 7 7 7 42 7; -1 42 3 9 7 7 7 -> 1; 3"
      ],
      "metadata": {
        "id": "aniOLuTFWiTr"
      }
    },
    {
      "cell_type": "code",
      "source": [
        "def gerando_lista_de_numeros(lista_de_strings):\n",
        "  lista_de_numeros = []\n",
        "  numero = ''\n",
        "  for element in (lista_de_strings + ' '): \n",
        "    if element != ' ':\n",
        "      numero += element\n",
        "    else:\n",
        "      lista_de_numeros.append(int(numero))\n",
        "      numero = ''\n",
        "\n",
        "  return lista_de_numeros\n",
        "\n",
        "\n",
        "def check_numbers_around(index_row, index_column):\n",
        "  try:\n",
        "    noroeste = matriz[index_row-1][index_column-1]\n",
        "    norte = matriz[index_row-1][index_column]\n",
        "    nordeste = matriz[index_row-1][index_column+1]\n",
        "    oeste = matriz[index_row][index_column-1]\n",
        "    # centro = matriz[index_row][index_column]\n",
        "    leste = matriz[index_row][index_column+1]\n",
        "    sudoeste = matriz[index_row+1][index_column-1]\n",
        "    sudeste = matriz[index_row+1][index_column+1]\n",
        "    return [noroeste, norte, nordeste, oeste, leste, sudoeste, sudeste]\n",
        "  except:\n",
        "    return [0, 0, 0, 0, 0, 0, 0]\n",
        "\n",
        "\n",
        "def find_unique(lista):\n",
        "  unique_list = []\n",
        "  for x in lista:\n",
        "    if x not in unique_list:\n",
        "      unique_list.append(x)\n",
        "  return unique_list"
      ],
      "metadata": {
        "id": "UNw-tcrqW-Ns"
      },
      "execution_count": 324,
      "outputs": []
    },
    {
      "cell_type": "code",
      "source": [
        "primeiro_input = gerando_lista_de_numeros(input())\n",
        "m = primeiro_input[0] # linhas\n",
        "n = primeiro_input[1] # colunas\n",
        "\n",
        "\n",
        "matriz = []\n",
        "for _ in range(m):\n",
        "  matriz.append(gerando_lista_de_numeros(input()))\n",
        "\n",
        "sabre_de_luz = False\n",
        "for index_row, linha in enumerate(matriz):\n",
        "  for index_column, numero in enumerate(linha):\n",
        "    if numero == 42:\n",
        "      numeros_ao_redor = check_numbers_around(index_row, index_column)\n",
        "      if len(find_unique(numeros_ao_redor)) == 1:\n",
        "        if 7 in find_unique(numeros_ao_redor):\n",
        "          sabre_de_luz = [index_row, index_column]\n",
        "\n",
        "if sabre_de_luz: \n",
        "  print(sabre_de_luz[0], sabre_de_luz[1])\n",
        "else: \n",
        "  print(-1, -1)"
      ],
      "metadata": {
        "colab": {
          "base_uri": "https://localhost:8080/"
        },
        "id": "PlQFNZ5aWrw9",
        "outputId": "ec46b91b-57fd-4f73-bf26-8acc0f4f8afb"
      },
      "execution_count": 325,
      "outputs": [
        {
          "output_type": "stream",
          "name": "stdout",
          "text": [
            "unicos: [7, 7, 7, 7, 42, 7, 7]\n",
            "unicos: [7, 7, 7, 42, 7, 7, 7]\n",
            "-1 -1\n"
          ]
        }
      ]
    },
    {
      "cell_type": "markdown",
      "source": [
        "# Jogo da Velha"
      ],
      "metadata": {
        "id": "EsJgzUnwdQmv"
      }
    },
    {
      "cell_type": "markdown",
      "source": [
        "O Jogo da Velha é um jogo que envolve uma disputa de dois jogadores denominados ‘O’ e ‘X’ que, alternadamente, desenham respectivamente ‘O’ ou ‘X’ em um tabuleiro 3 X 3 de modo a tentarem completar uma fileira (linha ou coluna ou diagonal principal ou diagonal secundária) antes do outro. Ou seja, quem completar uma fileira primeiro ganha o jogo. Seguem alguns exemplos de situações que podem ocorrer no final do jogo:"
      ],
      "metadata": {
        "id": "8NXVoIGAdY_g"
      }
    },
    {
      "cell_type": "markdown",
      "source": [
        "![image.png](data:image/png;base64,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)"
      ],
      "metadata": {
        "id": "cP5zYi1udZ-e"
      }
    },
    {
      "cell_type": "markdown",
      "source": [
        "Note que o penúltimo exemplo é considerado indeterminado, já que não é possível saber quem fechou uma das colunas primeiro (os jogadores ‘X’ e ‘O’ fecharam a 1ª e a 2ª coluna, respectivamente, mas não é possível determinar qual deles fechou sua coluna primeiro). Já o último exemplo é inválido, pois o jogador ‘X’ jogou pelo menos 2 vezes a mais do que o jogador ‘O’ (no caso, ‘X’ jogou 3 vezes a mais).\n",
        "\n",
        "Seu objetivo é criar um programa que, dada uma matriz quadrada de dimensão d >= 1, imprime o resultado da partida.\n",
        "\n",
        "Entrada\n",
        "- A primeira linha consiste de um número natural d >= 1, e as demais d linhas são strings de tamanho d contendo sequências de ‘O’s e ‘X’s.\n",
        "\n",
        "Saída\n",
        "- O programa deve imprimir um dos 5 resultados abaixo:\n",
        "- Caso ‘O’ seja o vencedor: “Vencedor: O”\n",
        "- Caso ‘X’ seja o vencedor: “Vencedor: X”\n",
        "- Caso não haja vencedor: “Vencedor: EMPATE”\n",
        "- Caso não dê para determinar o vencedor (existe pelo menos uma fileira completa de cada jogador): “Vencedor: INDETERMINADO”\n",
        "- Caso o resultado seja inválido (um dos jogadores jogou pelo menos 2 vezes a mais do que o outro jogador): “UM DOS JOGADORES JOGOU MAIS DO QUE DEVERIA”\n",
        "\n",
        "\n",
        "Exemplos:\n",
        "- 1 O -> Vencedor: O\n",
        "- 1 X -> Vencedor: X\n",
        "- 2 OX XO -> Vencedor: INDETERMINADO\n",
        "- 2 OO XO -> UM DOS JOGADORES JOGOU MAIS DO QUE DEVERIA\n",
        "- 3 OXO OXO XOX -> Vencedor: EMPATE"
      ],
      "metadata": {
        "id": "IYdjF11Qdbd-"
      }
    },
    {
      "cell_type": "code",
      "source": [
        "import itertools\n",
        "\n",
        "def gerando_lista_de_strings(string):\n",
        "  lista_de_strings = []\n",
        "  for element in string:\n",
        "    lista_de_strings.append(element)\n",
        "\n",
        "  return lista_de_strings\n",
        "\n",
        "\n",
        "def find_unique(lista):\n",
        "  unique_list = []\n",
        "  for x in lista:\n",
        "    if x not in unique_list:\n",
        "      unique_list.append(x)\n",
        "  return unique_list"
      ],
      "metadata": {
        "id": "Acpi2bETeTzW"
      },
      "execution_count": 409,
      "outputs": []
    },
    {
      "cell_type": "code",
      "source": [
        "tamanho_matriz = int(input())\n",
        "matriz = []\n",
        "for _ in range(tamanho_matriz):\n",
        "  matriz.append(gerando_lista_de_strings(input()))"
      ],
      "metadata": {
        "colab": {
          "base_uri": "https://localhost:8080/"
        },
        "id": "QIYD9ED3aigM",
        "outputId": "d5e62add-a105-458e-fb16-ef495428b717"
      },
      "execution_count": 406,
      "outputs": [
        {
          "name": "stdout",
          "output_type": "stream",
          "text": [
            "5\n",
            "XXXXO\n",
            "XOOOO\n",
            "XXXXO\n",
            "XOOOO\n",
            "XOXOX\n"
          ]
        }
      ]
    },
    {
      "cell_type": "code",
      "source": [
        "diagonal_1 = []\n",
        "diagonal_2 = []\n",
        "linhas = []\n",
        "colunas = []\n",
        "\n",
        "# sequencia de linha e diagonais\n",
        "index = 0\n",
        "index_ultimo = -1\n",
        "for linha in matriz:\n",
        "  linhas.append(linha)\n",
        "  diagonal_1.append(linha[index])\n",
        "  diagonal_2.append(linha[index_ultimo])\n",
        "  index += 1\n",
        "  index_ultimo -= 1\n",
        "\n",
        "# sequencia de colunas\n",
        "num_colunas = len(matriz[0])\n",
        "for i in range(num_colunas):\n",
        "  coluna_iteracao = []\n",
        "  for linha in matriz:\n",
        "    coluna_iteracao.append(linha[i])\n",
        "  colunas.append(coluna_iteracao)\n",
        "\n",
        "# WIN OR LOSE??\n",
        "count_X_wins = 0\n",
        "count_O_wins = 0\n",
        "\n",
        "\n",
        "\n",
        "# Transformando lista de listas em uma lista flat (pra contar jogadas)\n",
        "linhas_flat = list(itertools.chain(*linhas))\n",
        "colunas_flat = list(itertools.chain(*colunas))\n",
        "\n",
        "count_X, count_O = 0, 0\n",
        "for jogada in linhas_flat: # contando jogadas pra ver se alguém jogou mais do que deveria\n",
        "  if jogada == 'X': count_X +=1\n",
        "  if jogada == 'O': count_O +=1\n",
        "\n",
        "\n",
        "# contando vitórias na diagonal 1 e 2\n",
        "if find_unique(diagonal_1) == ['O']:\n",
        "  count_O_wins += 1\n",
        "if find_unique(diagonal_2) == ['O']:\n",
        "  count_O_wins += 1\n",
        "if find_unique(diagonal_1) == ['X']:\n",
        "  count_X_wins += 1\n",
        "if find_unique(diagonal_2) == ['X']:\n",
        "  count_X_wins += 1\n",
        "  \n",
        "\n",
        "# contando vitórias nas linhas\n",
        "for linha in linhas:\n",
        "  if find_unique(linha) == ['X']:\n",
        "    count_X_wins += 1\n",
        "  if find_unique(linha) == ['O']:\n",
        "    count_O_wins += 1\n",
        "\n",
        "\n",
        "# contando vitórias nas colunas\n",
        "for coluna in colunas:\n",
        "  if find_unique(coluna) == ['X']:\n",
        "    count_X_wins += 1\n",
        "  if find_unique(coluna) == ['O']:\n",
        "    count_O_wins += 1\n",
        "\n",
        "\n",
        "# resultado final\n",
        "if count_X > (count_O + 1) or count_O > (count_X + 1):\n",
        "  print('UM DOS JOGADORES JOGOU MAIS DO QUE DEVERIA')\n",
        "else:\n",
        "  if count_O_wins > count_X_wins:\n",
        "    print('Vencedor: O')\n",
        "  elif count_X_wins > count_O_wins:\n",
        "    print('Vencedor: X')\n",
        "  elif count_X_wins == count_O_wins:\n",
        "    if count_X_wins == 0:\n",
        "      print('Vencedor: EMPATE')\n",
        "    else:\n",
        "      print('Vencedor: INDETERMINADO')"
      ],
      "metadata": {
        "colab": {
          "base_uri": "https://localhost:8080/"
        },
        "id": "pJUuwKc-e8__",
        "outputId": "8e776d7b-8c76-4ff0-db3a-589260ad95dc"
      },
      "execution_count": 408,
      "outputs": [
        {
          "output_type": "stream",
          "name": "stdout",
          "text": [
            "diag1: ['X', 'O', 'X', 'O', 'X']\n",
            "diag2: ['O', 'O', 'X', 'O', 'X']\n",
            "linhas: [['X', 'X', 'X', 'X', 'O'], ['X', 'O', 'O', 'O', 'O'], ['X', 'X', 'X', 'X', 'O'], ['X', 'O', 'O', 'O', 'O'], ['X', 'O', 'X', 'O', 'X']]\n",
            "colunas: [['X', 'X', 'X', 'X', 'X'], ['X', 'O', 'X', 'O', 'O'], ['X', 'O', 'X', 'O', 'X'], ['X', 'O', 'X', 'O', 'O'], ['O', 'O', 'O', 'O', 'X']]\n",
            "Vencedor: X\n"
          ]
        }
      ]
    },
    {
      "cell_type": "markdown",
      "source": [
        "# Adiciona Borda"
      ],
      "metadata": {
        "id": "ex8t28H-p8v0"
      }
    },
    {
      "cell_type": "markdown",
      "source": [
        "A figura a seguir ilustra a matriz N obtida após adicionarmos uma borda de tamanho 2 à matriz M (matriz 3x3 representada em branco)."
      ],
      "metadata": {
        "id": "pQulRXFvp-1M"
      }
    },
    {
      "cell_type": "markdown",
      "source": [
        "![image.png](data:image/png;base64,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)"
      ],
      "metadata": {
        "id": "-wOYlgdWqAYs"
      }
    },
    {
      "cell_type": "markdown",
      "source": [
        "Escreva um programa que, dada uma matriz de entrada, adicione bordas a ela.\n",
        "\n",
        "Entrada:\n",
        "- A primeira linha da entrada consiste de dois números inteiros K e N (K ≥ 0 e N ≥ 1), separados por espaço, que indicam, respectivamente, o tamanho da borda que você deve adicionar à matriz de entrada e o número de linhas dela. Os valores da matriz são apresentados nas próximas N linhas, onde cada linha da entrada apresenta os valores contidos em uma linha da matriz (separados por espaço).\n",
        "\n",
        "Saída:\n",
        "- O seu programa deve imprimir a matriz de entrada com uma borda de tamanho K adicionada a ela.\n",
        "\n",
        "Dica:\n",
        "- Para reduzir a complexidade do problema, e para facilitar os testes, crie pequenas funções e as combine para resolver o problema.\n",
        "\n",
        "Exemplos:\n",
        "- 2 3; 0 9 2; 3 4 0; 2 8 5 -> 0 0 0 9 2 2 2; 0 0 0 9 2 2 2; 0 0 0 9 2 2 2; 3 3 3 4 0 0 0; 2 2 2 8 5 5 5; 2 2 2 8 5 5 5; 2 2 2 8 5 5 5\n"
      ],
      "metadata": {
        "id": "APX2PIgfqB4W"
      }
    },
    {
      "cell_type": "code",
      "source": [
        "def gerando_lista_de_numeros(lista_de_strings):\n",
        "  lista_de_numeros = []\n",
        "  numero = ''\n",
        "  for element in (lista_de_strings + ' '): \n",
        "    if element != ' ':\n",
        "      numero += element\n",
        "    else:\n",
        "      lista_de_numeros.append(int(numero))\n",
        "      numero = ''\n",
        "\n",
        "  return lista_de_numeros\n",
        "\n",
        "\n",
        "def is_empty(pos, matriz_com_vazios):\n",
        "  row = pos[0]\n",
        "  col = pos[1]\n",
        "\n",
        "  empty_positions = []\n",
        "\n",
        "  if matriz_com_vazios[row][col - 1] == '.': empty_positions.append('oeste')\n",
        "  if matriz_com_vazios[row - 1][col] == '.': empty_positions.append('norte')\n",
        "  if matriz_com_vazios[row][col + 1] == '.': empty_positions.append('leste')\n",
        "  if matriz_com_vazios[row + 1][col] == '.': empty_positions.append('sul')\n",
        "\n",
        "  return empty_positions\n",
        "\n",
        "\n",
        "def add_to_direction(pos, matriz_com_vazios, tamanho_da_borda, posicoes_vazias):\n",
        "  row = pos[0]\n",
        "  col = pos[1]\n",
        "  valor = pos[2]\n",
        "\n",
        "  if 'norte' in posicoes_vazias:\n",
        "    for i in range(tamanho_da_borda + 1):\n",
        "      matriz_com_vazios[row - i][col] = valor\n",
        "  if 'sul' in posicoes_vazias:\n",
        "    for i in range(tamanho_da_borda + 1):\n",
        "      matriz_com_vazios[row + i][col] = valor\n",
        "  if 'leste' in posicoes_vazias:\n",
        "    for i in range(tamanho_da_borda + 1):\n",
        "      matriz_com_vazios[row][col + i] = valor\n",
        "  if 'oeste' in posicoes_vazias:\n",
        "    for i in range(tamanho_da_borda + 1):\n",
        "      matriz_com_vazios[row][col - i] = valor"
      ],
      "metadata": {
        "id": "hXoluMldqe81"
      },
      "execution_count": 683,
      "outputs": []
    },
    {
      "cell_type": "code",
      "source": [
        "primeiro_input = gerando_lista_de_numeros(input())\n",
        "\n",
        "tamanho_da_borda = primeiro_input[0]\n",
        "tamanho_da_matriz = primeiro_input[1]\n",
        "\n",
        "matriz_de_entrada = []\n",
        "for _ in range(tamanho_da_matriz):\n",
        "  matriz_de_entrada.append(gerando_lista_de_numeros(input()))\n",
        "\n",
        "# SE TAMANHO DA BORDA == 0, NÃO TEM MOTIVO PRA FAZER NADA ALÉM DE PRINTAR O QUE JÁ TEMOS.\n",
        "if tamanho_da_borda == 0:\n",
        "  for linha in matriz_de_entrada:\n",
        "    print(linha)\n",
        "else:\n",
        "\n",
        "  numero_linhas = len(matriz_de_entrada)\n",
        "  numero_colunas = len(matriz_de_entrada[0])\n",
        "  numero_linhas_com_borda = numero_linhas + (tamanho_da_borda*2) # multiplico por dois pois é leste, oeste... ou norte, sul\n",
        "  numero_colunas_com_borda = numero_colunas + (tamanho_da_borda*2)\n",
        "\n",
        "\n",
        "  # criando uma matriz zerada para receber os dados do centro e das bordas\n",
        "  matriz_nova = []\n",
        "  for i in range(numero_linhas_com_borda):\n",
        "    colunas = ['.'] * numero_colunas_com_borda\n",
        "    matriz_nova.append(colunas)\n",
        "\n",
        "\n",
        "  # adicionando dados da matriz antiga ao centro da nova matriz (e guardando suas posições row, col)\n",
        "  posicoes_centrais = []\n",
        "  for row in range(numero_linhas): # iterando pelo tamanho de linhas matriz original\n",
        "    for col in range(numero_colunas): # iterando pelo tamanho de colunas matriz original\n",
        "      # posicoes centrais\n",
        "      matriz_nova[tamanho_da_borda + row][tamanho_da_borda + col] = matriz_de_entrada[row][col]\n",
        "      posicoes_centrais.append([tamanho_da_borda + row, tamanho_da_borda + col, matriz_de_entrada[row][col]]) # pos row, pos col, valor\n",
        "\n",
        "\n",
        "\n",
        "  # primeiro vamos enxer apenas norte, sul, leste, oeste. depois nos preocupamos com as diagonais\n",
        "  for posicao in posicoes_centrais:\n",
        "    posicoes_vazias = is_empty(posicao, matriz_nova)\n",
        "    add_to_direction(posicao, matriz_nova, tamanho_da_borda, posicoes_vazias)\n",
        "\n",
        "\n",
        "  # da esquerda pra direita, com os que sobraram da direita\n",
        "  for index_row, linha in enumerate(matriz_nova):\n",
        "    for index_col, col in enumerate(linha):\n",
        "      if col == '.':\n",
        "        valor_para_substituir = matriz_nova[index_row][index_col - 1]   \n",
        "        matriz_nova[index_row][index_col] = valor_para_substituir\n",
        "\n",
        "\n",
        "  for i in range(tamanho_da_borda):\n",
        "    # da esquerda pra direita\n",
        "    for index_row, linha in enumerate(matriz_nova):\n",
        "      for index_col, col in enumerate(linha):\n",
        "        if col == '.':\n",
        "          valor_para_substituir = matriz_nova[index_row][index_col + 1]   \n",
        "          matriz_nova[index_row][index_col] = valor_para_substituir\n",
        "\n",
        "\n",
        "  for linha in matriz_nova:\n",
        "    print(linha)"
      ],
      "metadata": {
        "colab": {
          "base_uri": "https://localhost:8080/"
        },
        "id": "zFaHSPLdqMZ7",
        "outputId": "3ef02065-1f6a-4a3a-9f6c-1b08b8691e6d"
      },
      "execution_count": 684,
      "outputs": [
        {
          "output_type": "stream",
          "name": "stdout",
          "text": [
            "0 4\n",
            "6 6 1 6 1\n",
            "4 7 8 0 6\n",
            "1 1 9 5 8\n",
            "5 2 6 6 9\n",
            "[6, 6, 1, 6, 1]\n",
            "[4, 7, 8, 0, 6]\n",
            "[1, 1, 9, 5, 8]\n",
            "[5, 2, 6, 6, 9]\n"
          ]
        }
      ]
    }
  ]
}