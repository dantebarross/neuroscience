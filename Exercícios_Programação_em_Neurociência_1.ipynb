{
  "nbformat": 4,
  "nbformat_minor": 0,
  "metadata": {
    "colab": {
      "provenance": [],
      "authorship_tag": "ABX9TyPKSj2GuBjnG3hTDXNudTko",
      "include_colab_link": true
    },
    "kernelspec": {
      "name": "python3",
      "display_name": "Python 3"
    },
    "language_info": {
      "name": "python"
    }
  },
  "cells": [
    {
      "cell_type": "markdown",
      "metadata": {
        "id": "view-in-github",
        "colab_type": "text"
      },
      "source": [
        "<a href=\"https://colab.research.google.com/github/dantebarross/neuroscience/blob/main/Exerc%C3%ADcios_Programa%C3%A7%C3%A3o_em_Neuroci%C3%AAncia_1.ipynb\" target=\"_parent\"><img src=\"https://colab.research.google.com/assets/colab-badge.svg\" alt=\"Open In Colab\"/></a>"
      ]
    },
    {
      "cell_type": "markdown",
      "source": [
        "# Calculando área do Círculo"
      ],
      "metadata": {
        "id": "l9R7FHUelTh3"
      }
    },
    {
      "cell_type": "markdown",
      "source": [
        "A área de um círculo é pi vezes o raio elevado ao quadrado (A = π r²). Aprenda a usar esta fórmula para calcular a área de um círculo, quando souber a medida do diâmetro. \n",
        "\n",
        "\n",
        "Diâmetro (D) é duas vezes o raio (R), ou seja, D = 2 * R. Já a circunferência (C) é duas vezes o raio (R), vezes pi (3.14...) , ou seja, C = 2 * R * pi. "
      ],
      "metadata": {
        "id": "vRcW-TNKlNwm"
      }
    },
    {
      "cell_type": "markdown",
      "source": [
        "Entrada:\n",
        "A entrada contém um número real, positivo, representando o raio.\n",
        "\n",
        "Saída:\n",
        "Seu programa deve imprimir na tela a área do círculo com 4 casas após o ponto decimal\n",
        "\n",
        "Exemplos:\n",
        "Entrada\n",
        "\n",
        "Saída\n",
        "\n",
        "2 -> 12.5664\n",
        "100.64 -> 31819.3372\n",
        "150 -> 70685.8347\n",
        "\n"
      ],
      "metadata": {
        "id": "8QP_oZhWpKO0"
      }
    },
    {
      "cell_type": "code",
      "source": [
        "import math\n",
        "pi = math.pi\n",
        "pi"
      ],
      "metadata": {
        "colab": {
          "base_uri": "https://localhost:8080/"
        },
        "id": "HQyHCz8fpKAO",
        "outputId": "f005b25f-8f24-4c70-df21-c29d18c348a2"
      },
      "execution_count": null,
      "outputs": [
        {
          "output_type": "execute_result",
          "data": {
            "text/plain": [
              "3.141592653589793"
            ]
          },
          "metadata": {},
          "execution_count": 19
        }
      ]
    },
    {
      "cell_type": "code",
      "source": [
        "raio = float(input('Qual o raio do círculo? '))\n",
        "A = pi * (raio**2)\n",
        "print('A área do círculo é: %.4f'%A)"
      ],
      "metadata": {
        "colab": {
          "base_uri": "https://localhost:8080/"
        },
        "id": "rUmlloIMpW-M",
        "outputId": "6bf98795-6482-412b-bf82-4e538328af34"
      },
      "execution_count": null,
      "outputs": [
        {
          "output_type": "stream",
          "name": "stdout",
          "text": [
            "Qual o raio do círculo? 10\n",
            "A área do círculo é: 314.1593\n"
          ]
        }
      ]
    },
    {
      "cell_type": "markdown",
      "source": [
        "# Paralelepípedo"
      ],
      "metadata": {
        "id": "lJ3DEJ7Qvmnz"
      }
    },
    {
      "cell_type": "markdown",
      "source": [
        "Faça um programa que leia os comprimentos das três arestas a, b, c de um paralelepípedo. Então calcule o seu volume e sua diagonal principal, dados pelas seguintes expressões, respectivamente:"
      ],
      "metadata": {
        "id": "aWQwQit_vocq"
      }
    },
    {
      "cell_type": "markdown",
      "source": [
        "![image.png](data:image/png;base64,iVBORw0KGgoAAAANSUhEUgAAAH8AAAAaCAYAAACehIP6AAAE+0lEQVRoBe2ai20iMRCGndMVgCgBpQK0JaBUgFICooIoJSAqQCkBUQFKCVEqiCgBpYM9fb6Z1WBsrwkLdzyQovWux+Px/PPcjRsMBrVzzv/1er3a/unzj48P5lt/w+Fwj5fyWCwWRTxaN7lSgvV6XY/H43o0GtVgAg6MT3rc7XZbf3191bPZrAEOwBAE0JkvFQBaAdnz4hDcw7+Ux63SLZfL+uXlRQH3+ptMJufTG9amnnoI6CFgZ7HacNMruRdH8ThgEGc7lg3bpaE+FI7wJakknLrfF2gA/XXhgAVbuV+WaDAYNLebzaYZHzKYTqduuVwesuROazTw/v7u78Ci3+8/mKnOh52CT84aj8euqqqTCt25Fv4jhgr+aDQ6uVS/7Q7HeD5p4vn52W02mzvwVqkHjj8/P/2K4XB44MojyW2+kfxfzBH6n9YJxZtcOaHoz+f8s3dIUuH7zaXyL1I3beJZ25IiqS6PSNvtQ3Tf9SmbarOEMRZ6r+5LNNVOIy91/DuWduoTUAiQxaGHcC/p4gTSXBZLwjYvx9CJ/h2oG693fRtKJFA+XCUyFCsFPhiU8mCsL++iTNT66DXbBIc5zKKMbuyhpL0dgEijKB49Mk84T9VFousGfNbZlzxE2NKXZ+ACLdiEtQMygTH77VT74FVa8cMEWt4HrFark0KNwrbb7Un2eHp6Oqo7EWW6t7c3t16vneVHn858VVVeTxwgdQ5t8aCBF/e2z398fHyglZ7P5w5wp9NpVG4A513LYrFw0ITYTCYTzzuqTC068Hw2ixI557Aea5kpumOfozx943WKa8oTS+XGQ5ErF5JtNE3xVT54rJx5j1SjAzR7k4JJThbBy8sbjdiWQITe2wea1Nwe8RU/0FDfVvAqsCmdWQPHq1MqU/ABODQQcdRs8a2pA3nDdOD3lIfeOmKHYtOcdaYEv7bnVk85r5dze32m6KzDhaBavVk6G7GsLDnjsbxyYy+shNkdOsJFFxvsML3AGwmbXk85wKy3WsDskUsjiHo3uFjPtWklJ4vdMzmWnLJ3MA4iISy59oYmvH7a9KHApvI0+tL2WmiTKtT0YZ1SwPaypNJKkmFswm5irTWZK2JMrviZ9eZcUYwKFNhogfW3+vfAAajwjWouBbJNBam0EmXo3O4nXSWKtXtYJW0CLYfSneNqDy0W3yiri3tr3KXnsZ+7c1/fkF1p+egV++k8c7SEqZ9tBflyqj+7/tCPQXt9PkxD8LFIesd/8cWOXpf9v7+/9bydXXu93o8+P1tZSgGzRsJ50DGOpH0/sti+PjwkvT8/1tken3X6y8miNK1XKei8hxGuCF0/8ZDWjS6UwIba3BG0KAzrAnKzFmxaqUt6iLJTmlhqkFThsZIoGeVhH0KXLNotQzZsy2uW8S2MLRip84qzeFBsIYfiQ2NAx7mCUKt5y8fuqwV6iYOyP4YmGFs2f8diQV7wnEXur7ydJ+rVMYVjHACmhbMtxBiHXqctnBjVjhJ1LgU8xBqpczTQISsyJYE3O3vwSwjNmpsZ4iB4XOjFAKGVvUZQBQVwQ3pVGE4WtmqyLvvqWNerkYSGxTxywBt+4th+WbTgY4bKkSLFfqjQje5X1xRnVVV5J+n3+41aVquV74jQHfXBbDZDn/Xr66t+sGlodUAxjdFYcCjmKAhzhaCun8/nvjCmMFQDU5noFPinWvho4ci6P/CCIRRvpogkAAAAAElFTkSuQmCC)\n",
        "\n",
        "![image.png](data:image/png;base64,iVBORw0KGgoAAAANSUhEUgAAASMAAAAtCAYAAADlXQ3pAAAI6UlEQVR4Ae1cgU3kOhDNP10BK0pAVIAoYbUVIEpAVIAoAVEBogREBWhLQFSArgREB5yeb95+bzZ27MQ23nhWWpmNJ87Mm/HMsxPSdfqpGoHr6+vvruv0qxi0EANVz8WmlXt+fm4hANVGTbSMgabne9XGn56efuNbtZKqnCKgCCwbAbIiaZdtrFqnCCgC9SJwfn6urKhe96hmikAbCLy+vpo1tLKiNvytVioC1SKgrKha16hiikA7CJAVPT4+6sZ1O25XSxWB+hBYr9ffq9VKE1F9rlGNFIF2EHh7ezN7RSVZEfaluCxEEkQyLHn9Y/KuYhXnLcUrDq+qpEuzotvb273E8/n5yd/mTt7Hx4cyNIkQxSpuqihecXhVJU1WdH9/XyQBIFhkf+oAB+5b6QOX/6BRrA5CxHtA8fLCU39nSVYEBiT/8+YE5vLy0iwZEVhOoQY6FKs4JytecXhVJy3Loe9SrAh7Qi5WRHDIjlrfTFesGBFhreIVhlO1UmQhqCollOSbAHwb1UyQeGNAKb1K2B57DcUqDrE5eP2Ou1TXIUgfHh66P3/+dJ+fn6b9+voyf5+cnPwXO17r8sDz7Oysu7297UrhB7/h8/T05IT/5OTE2XeMHWB6sBexyti9uLjottutN2ZbxGqOf4vihY1W7CMwA6Jytk7l5zivNCuCrmA6WBIK+xlUnxvqS/EtbjMjbrE3x/dDSQwP2s+DLWJF26e0P4aX3G35lgk1Rfemz+FSqMZNYtm/WpxviTkSEhJUigBcKlYpsBkaIxdepsr49h6GlNFj/xAgu6xxT4aFxseejtGP3JhPuRe2VKxy+Tc5Xjmcmsv4GseVBMTlblUqsnJJW5Vuc5URFprs9SxLxmou1kPnZ8ErtVOHFF/ysVpZEfeKSi4dUSlLsUP86wtYUch+0Vj8LR2rMftj+7PhxY3AFE6NNerY5WtmRUgMJX1KLCRQS7g22dZCA1gl9UdOvIxTU20CJrU642ApKjhZZW37MbgRUfpmRMlkxMoMZjQX+6VjlXoKZcPLdmqKyZna8BzjwU6wQaH5ky/ByVd60o8pjARZkhFRH+JRghlxv2Lu4wotYEX/pGiz4kWngnalULb2MTBRxFbDBudMnBpZEfz5E4kIfi+ZjLi1MKcQtIJVqjmZBC9MODgNTIBfuYPW0ak/FcCpgAoZB48twH6x1SSjOcGMJcLM8/fU9vlpT9DxA8tsnx9hvyQMxwjzDpdMRsAeXz6KgonC2EaL3z5rGsPqAArgxtUB8MLfiGVXcU6CFyee7RwEDRSwb+kvfb/IppecNAzoKRNU8HQ678D7IwfG/IR+LElcwQJfClNzXsmXqJwnRXQQV5eOEUN5Re24ZYGx4xd7SMBKCu3BWC1h1TceeAEbJJ7+Xhv8B8wE392ps/HCwEg4mHD9wXEV9Mt628hIIO0UiP0DAYjr5PjG6hIiz8kPfMYm8dB4vmAfkncdC/GTvawc8iWCKsSGlCxuyB6JIWfCHDpnyjGx1cQtYnwodilD5sTrtIYV7UYr/t+xSbvP7reTeBK8mIhsRtS/uFyUeyj97uDfDEIyjdRtjkorVcEEtCTlYHtTsqIYPwmue3oCe+iPhOX74tylMCNiBruHEhEAkqTNgmswaxErBgvnuisfCLM084FFKwlerPpSUanPQUunhlTVg5MXcIAOwkS1af6YaalYUayf7IpFHVntQgqAKxA51txWEkNWZsRrwN4+67H1ZzKCnJyzYwatYEU8yBJ9+QDFmUVNCvV8vOyKHxB8JhMOUX8asuTWDlhJzKPmygSYPeGm+CnAn6P65xRgosjBZKm3XcGZZNhnt7ZcTn3sa8b8XQIr6GPHmS95x+geLGtXSp+z7IkYPPgCBaVamKQcErSoHqGJywfXFD+F6Oe75pQ+TpoQNjFFJtamUDZJNgCdWOmn2B9zTm1YQXeb/fvyQYydIbLm5WovLy9G9vz83PuCL1vu/f09ZPxFylxfX3d3d3fGtvv7e6+NqCw3Nzcd5DabjVd2rNPG3/ciNsqtVqvu4uLC+/KwsWtO6YduKFx4kdnYBy/jIj6np6dj4t0Um7bbrRl3vV57XyhHOQifnZ0Vwa02rJB8+GI94OWLs1FnxQrYbGdsH4iMYEwuVocjlTfMCFXUVz2AWQpWNMVP3FSsGV8yg1i2E2oTx4efBMPBU225oX22wZMKH6SOubCCOfZStfQS/xdewckPMqHrAyAo65Nznd8/TmCn0PSQc3I6DLaAHfHjYkdwLDBz9fP8kJbYQ9aHv+2nq6urkKEXLWPjhtfMuj42K7q8vHSJLf64jRdWSiU/v20qHeqszWazo7CoNqB1scuBGHoaC8gUKh97Dbyzmu+QZtsfA0s5LD1svPoyob+n+MlOWvATdCm1/Ai1K7cc38mMmPAtOehDYHRzc7OL79z61TY+cOLHlw8ok7S1aZlvYG6e9pcc+F1qs8+n30/02Rt9/bsOxFXa2epxPGGFzvFcfoKuNfqJDDkXk+WdobFb1GTbvqWcE/RCHbmxghliv9mCkOuNWge5fvyPnjQkQGf5glwCxSho7xdBiX5yGrrGUo/ZjusHO373j83BIdZP9sOKNftJAn72Yw8j2O49yNiXZVGxMevL1PC7EFa4SRB8pxg6Ic6TJXFW06HqhEkAZ0nS2ftnQmxwJcmINXh6og6ScIzz6BAmqVSsiKot0U8lJhhv2UtCJ5ymZV/tiQjKlsAK15E5Pfr0PfIF8gLjfg/YqT9g5NCzMFBKJsCOvtFpTFJTr7mU8+g4MEupsB0clJIVEaupfqqZvZaaYPAH/UM8JZb3Ciz7amxLYQXbmaSHyAaSD7AEfqJTergwOAIXF8K3rwgqPfrxRZLKpkh607KOSFqLhMTk1McupQJL8lPpCcb4RYsJd0wxXBIrxCuSDuY5MWNeODbcUs696sdiFeEmqCSn6vWuQcHSE6wGm6fqsHSsfk0FRs/7HwE+jc0jKZ4r4ljaKgKKgCIQhQA3l5UVRcFmhHXJH46ZYhWOVbOSfPwh9R20ZgFVw5tD4C+dL0/u3ivg7wAAAABJRU5ErkJggg==)"
      ],
      "metadata": {
        "id": "QmQxQ7T2vw4y"
      }
    },
    {
      "cell_type": "markdown",
      "source": [
        "\n",
        "atribuindo os resultados às variáveis V e d. A seguir, apresente as variáveis com as mensagens correspondentes, conforme exemplos abaixo. A saída deve imprimir duas casas decimais."
      ],
      "metadata": {
        "id": "oDeT2stFvza6"
      }
    },
    {
      "cell_type": "markdown",
      "source": [
        "Entrada:\n",
        "- Três números inteiros a, b e c.\n",
        "\n",
        "Saída\n",
        "- Volume: valor_de_V Diagonal: valor_de_d"
      ],
      "metadata": {
        "id": "6cd1i8bjv-9i"
      }
    },
    {
      "cell_type": "markdown",
      "source": [
        "Exemplo:\n",
        "\n",
        "- Entrada (1, 1, 1) -> Volume: 1.00 Diagonal: 1.73\n",
        "- Entrada (1, 2, 3) -> Volume: 6.00 Diagonal: 3.74"
      ],
      "metadata": {
        "id": "JMTUI05-wDMB"
      }
    },
    {
      "cell_type": "code",
      "source": [
        "def get_volume(a, b, c):\n",
        "  V = a * b * c\n",
        "  return V\n",
        "\n",
        "def get_diagonal(a, b, c):\n",
        "  d = math.sqrt((a**2) + (b**2) + (c**2))\n",
        "  return d\n",
        "\n",
        "def get_output():\n",
        "  a = float(input('Qual o valor de a? '))\n",
        "  b = float(input('Qual o valor de b? '))\n",
        "  c = float(input('Qual o valor de c? '))\n",
        "\n",
        "  V = get_volume(a, b, c)\n",
        "  d = get_diagonal(a, b, c)\n",
        "\n",
        "  print('Volume:', '%.2f'%V, 'Diagonal:', '%.2f'%d)"
      ],
      "metadata": {
        "id": "qI4ya66SpZjm"
      },
      "execution_count": null,
      "outputs": []
    },
    {
      "cell_type": "code",
      "source": [
        "get_output()"
      ],
      "metadata": {
        "colab": {
          "base_uri": "https://localhost:8080/"
        },
        "id": "b4hRojmBwfMB",
        "outputId": "01759f74-1f4b-456e-eef9-e7f91d63a331"
      },
      "execution_count": null,
      "outputs": [
        {
          "output_type": "stream",
          "name": "stdout",
          "text": [
            "Qual o valor de a? 1\n",
            "Qual o valor de b? 2\n",
            "Qual o valor de c? 3\n",
            "Volume: 6.00 Diagonal: 3.74\n"
          ]
        }
      ]
    },
    {
      "cell_type": "markdown",
      "source": [
        "# Conversão de temperaturas"
      ],
      "metadata": {
        "id": "kgNb-7b3zSD1"
      }
    },
    {
      "cell_type": "markdown",
      "source": [
        "A conversão de graus Fahrenheit para Celsius é dada pela expressão:"
      ],
      "metadata": {
        "id": "vnIfZ7-uzYXa"
      }
    },
    {
      "cell_type": "markdown",
      "source": [
        "![image.png](data:image/png;base64,iVBORw0KGgoAAAANSUhEUgAAAF8AAAAmCAYAAACiYUf8AAAEHklEQVRoBe2bjW3yMBCG00/fAIgREBMgRkBMgDpC1AmqjBAxAWIExASIERATVB0BdYNUT+RzbWOHQALEbSxVMT7ncn59vh/bfUkiK+/v78V2u01Op1Py+vqaDAaDcgRfX1/J5+dnst/vk9Vqlby9vb10fWidF9AH4Gw2K2jf7/dn8jM50+mUiTmj+Xg1aVutVqUcTPzhcEj4bpZl1nfzPC9QFFGONE0fIluTcV16t2BQvk673a44HA5emq//rW1MsoBv8LDkos/Hx4eW5XQ6Udfv/TNejKIqwM5ms6C8o9EoSGuTgPkzCyaQFSAFOhovZTgcvqD5y+VSmuJ6Ko3X2oT0aLuMwtQ0aXvE09VqvjkYDLSWiwysBrRffkf1XCwWxWQysYRXA3rqOFAKVy6fQPgr6fff16HLbUQzmBUBnN/D4fBpImP3j8djGWkdj0fL2bpCsSrH47F2zi6907+VSSlMM8MkiB94pvBMAlqtzI9XFDTedNJRaT5aTpnP51rDWAXT6VT/9o5aNTJpdZ3dYrG4KlcgrwD8UCCAkiBrDPmHF0Ofvfd2fEAjsrgrLk3T0pm62o+2mxr/APHa/wTRg9j69rnX5yjmb7PZWI6fCXEjGVab2y+6iZABm/a+Plzt90QJTA2njnKYyR8rg9WAzPLHRKgVknhtJYzW63XplbFTEk2QOgMCyYObRrc/vB+ODJSIApuPLUam5XLplf3nrfvXAJqtA/AhuWKvydzWYDLMJEskItFar9fn8rMkRqORFVHIS8ppeGnSp3/eiICAay4nk5Va8padM+l9/UYElBOwNoJ8rCQ789H6thsQUJpuOYsQG1ZHiNa334CAAtTy3jew6V+5EoHS4+JgiSB8hxNX8ksIo4gA6pSuRC11ZL1nn04kL/ccYBd568MUtPBScTO1S/1bokvW+Oue5cYawHP4XFWIhiaTSVWXe9HOk5F7fenBfEvwybg2m03w02S1ZJjj8fgiEL3ND8IYJhC/+8JIEqvoNoLCw+wUxdJk9iowPxwEy34Oeyl1NL5To+qF6RG4hICl+Zc6x07HhGZZxo5i7dMvIjx2LLEE5C+PupAVO9ZafgIGTKo6eZKnpocqsgdv0uHzpJDbFCPaem3wOZlyd3j5LYchTRHQSVZTRr/1fcJws3Cg86R8xxQj2nptzRczJYdLmCFfOB4tEk8QvDb4yIa/4DiQg/H+LKP5bNUGX+w7Go+jZQJYBUxIczH+Jofa4Ls30JgMtJ8JaAO63uEGUFTmhvhe50LUuY/JLoAbBQXYVDb34FfA47v2QXeuBJqTUsGikvQnwfedtKHpZlzPfpb6ZwfLxBABhe5jViLtIeol5aH9miZMRJ7n5ZkFF76I0wGQS05yyVZAZSvB3EjE0crFKADh7MO8GNUEpG+F27sq75S+BwAAAABJRU5ErkJggg==)"
      ],
      "metadata": {
        "id": "9ediTtvAzVP9"
      }
    },
    {
      "cell_type": "markdown",
      "source": [
        "e a conversão de Kelvin para graus Celsius é dada por\n",
        "\n",
        "C = k - 273.15\n",
        "\n",
        "Faça um programa que recebe como entrada a temperatura em graus Celsius e realize duas conversões: uma para Fahrenheit e outra para Kelvin.\n",
        "\n"
      ],
      "metadata": {
        "id": "hbVt_ACvzhjM"
      }
    },
    {
      "cell_type": "markdown",
      "source": [
        "Entrada:\n",
        "- A entrada contém um número real representando a temperatura em graus Celsius.\n",
        "\n",
        "Saída:\n",
        "- Seu programa deve imprimir na tela dois valores reais arredondados para baixo (use a função int para obter a parte inteira desses valores), sendo o primeiro valor a temperatura em Fahrenheit e o segundo valor a temperatura em Kelvin.\n",
        "\n"
      ],
      "metadata": {
        "id": "WL73TAxHzltk"
      }
    },
    {
      "cell_type": "markdown",
      "source": [
        "Entrada -> Saída\n",
        "\n",
        "15 -> \n",
        "- 59 F\n",
        "- 288 K\n",
        "\n",
        "40.5 ->\n",
        "- 104 F\n",
        "- 313 K\n",
        "\n",
        "-40 ->\n",
        "- -40 F\n",
        "- 233 K"
      ],
      "metadata": {
        "id": "vjqZbvQbzx90"
      }
    },
    {
      "cell_type": "code",
      "source": [
        "def convert_fahrenheit_to_celsius(fahrenheit):\n",
        "  C = (fahrenheit - 32) / 1.8\n",
        "  return C\n",
        "\n",
        "def convert_kelvin_to_celsius(kelvin):\n",
        "  C = kelvin - 273.15\n",
        "  return C\n",
        "\n",
        "def convert_celsius_to_kelvin(celsius):\n",
        "  K = celsius + 273.15\n",
        "  return K\n",
        "\n",
        "def convert_celsius_to_fahrenheit(celsius):\n",
        "  F = (celsius * 9/5) + 32\n",
        "  return F"
      ],
      "metadata": {
        "id": "TgFcG-JsziIs"
      },
      "execution_count": null,
      "outputs": []
    },
    {
      "cell_type": "code",
      "source": [
        "import math\n",
        "\n",
        "F = convert_celsius_to_fahrenheit(-40)\n",
        "K = convert_celsius_to_kelvin(-40)\n",
        "print(math.floor(F), 'F')\n",
        "print(math.floor(K), 'K')"
      ],
      "metadata": {
        "colab": {
          "base_uri": "https://localhost:8080/"
        },
        "id": "TVTSeZJI1RaL",
        "outputId": "2f0d96c9-8802-4d96-81ac-7f579b644f5a"
      },
      "execution_count": null,
      "outputs": [
        {
          "output_type": "stream",
          "name": "stdout",
          "text": [
            "-40 F\n",
            "233 K\n"
          ]
        }
      ]
    },
    {
      "cell_type": "markdown",
      "source": [
        "# Exponencial, Raiz, Fração\n",
        "\n",
        "Leia dois números inteiros a, b, e dois números em ponto flutuante x, y. Então calcule a expressão:"
      ],
      "metadata": {
        "id": "Z0m3cuVr2ieQ"
      }
    },
    {
      "cell_type": "markdown",
      "source": [
        "![image.png](data:image/png;base64,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)"
      ],
      "metadata": {
        "id": "ioVkoLCc2lhY"
      }
    },
    {
      "cell_type": "markdown",
      "source": [
        "atribuindo o resultado à variável expressao. A seguir, mostre a variável expressao com a mensagem correspondente, conforme exemplos abaixo. A saída deve imprimir duas casas decimais.\n",
        "\n",
        "Entrada\n",
        "- Dois números inteiros a, b, e dois números em ponto flutuante x, y\n",
        "\n",
        "Saída\n",
        "- expressão: valor_do_calculo\n",
        "\n"
      ],
      "metadata": {
        "id": "CA36jNP82quY"
      }
    },
    {
      "cell_type": "markdown",
      "source": [
        "Exemplo:\n",
        "1, 2, 3, 4\n",
        "\n",
        "expressão: 4.59"
      ],
      "metadata": {
        "id": "92q396vI2vAg"
      }
    },
    {
      "cell_type": "code",
      "source": [
        "import math\n",
        "\n",
        "def get_output(a, b, x, y):\n",
        "  result = a + b**x - (math.sqrt(b)) + ((a + b) / (x - y))\n",
        "  return result\n",
        "\n",
        "a = float(input())\n",
        "b = float(input())\n",
        "x = float(input())\n",
        "y = float(input())\n",
        "\n",
        "result = get_output(a, b, x, y)\n",
        "\n",
        "print('%.2f'%result)"
      ],
      "metadata": {
        "colab": {
          "base_uri": "https://localhost:8080/"
        },
        "id": "PeGJxzZm2nF4",
        "outputId": "de4238ef-2d3c-406b-ef0d-1efb5b653816"
      },
      "execution_count": null,
      "outputs": [
        {
          "output_type": "stream",
          "name": "stdout",
          "text": [
            "1\n",
            "2\n",
            "3\n",
            "4\n",
            "4.59\n"
          ]
        }
      ]
    },
    {
      "cell_type": "code",
      "source": [],
      "metadata": {
        "id": "_2BqP6dh3K4v"
      },
      "execution_count": null,
      "outputs": []
    },
    {
      "cell_type": "code",
      "source": [
        "# COLKS e seus DUBILAS\n",
        "# custo fixo de 50 dubilas e um custo variável de 48(Nc)**0.9\n",
        "# lucro mensal L\n",
        "\n",
        "def calculando_lucro_mensal(carros_vendidos):\n",
        "  L = 50 * carros_vendidos - 48 * (carros_vendidos**0.9) - 50\n",
        "  return L\n",
        "\n",
        "calculando_lucro_mensal(100)"
      ],
      "metadata": {
        "colab": {
          "base_uri": "https://localhost:8080/"
        },
        "id": "LiIBlDFJ3VH3",
        "outputId": "c21f2f08-c4be-4394-d380-8a8c5617b904"
      },
      "execution_count": null,
      "outputs": [
        {
          "output_type": "execute_result",
          "data": {
            "text/plain": [
              "1921.4047464950722"
            ]
          },
          "metadata": {},
          "execution_count": 59
        }
      ]
    },
    {
      "cell_type": "code",
      "source": [
        "import numpy as np\n",
        "NC = np.arange(0, 21, 1)\n",
        "NC"
      ],
      "metadata": {
        "colab": {
          "base_uri": "https://localhost:8080/"
        },
        "id": "JycoVMEo4gzn",
        "outputId": "7fafd39f-6d90-4d39-9864-e509508eedaa"
      },
      "execution_count": null,
      "outputs": [
        {
          "output_type": "execute_result",
          "data": {
            "text/plain": [
              "array([ 0,  1,  2,  3,  4,  5,  6,  7,  8,  9, 10, 11, 12, 13, 14, 15, 16,\n",
              "       17, 18, 19, 20])"
            ]
          },
          "metadata": {},
          "execution_count": 60
        }
      ]
    },
    {
      "cell_type": "code",
      "source": [
        "lucro_mensal_array = calculando_lucro_mensal(NC)\n",
        "lucro_mensal_array"
      ],
      "metadata": {
        "colab": {
          "base_uri": "https://localhost:8080/"
        },
        "id": "EESiSLgs5n5U",
        "outputId": "a10077a7-f3ae-4604-dae1-a090285fe436"
      },
      "execution_count": null,
      "outputs": [
        {
          "output_type": "execute_result",
          "data": {
            "text/plain": [
              "array([-50.        , -48.        , -39.57116719, -29.01801822,\n",
              "       -17.14570815,  -4.3215814 ,   9.243865  ,  23.41445866,\n",
              "        38.0950798 ,  53.21564532,  68.72244733,  84.57306252,\n",
              "       100.73316626, 117.17443825, 133.87312989, 150.80905184,\n",
              "       167.96483846, 185.32540094, 202.87751227, 220.60948678,\n",
              "       238.51092886])"
            ]
          },
          "metadata": {},
          "execution_count": 62
        }
      ]
    },
    {
      "cell_type": "code",
      "source": [
        "lucro_positivo = []\n",
        "for value in lucro_mensal_array:\n",
        "  if value > 0:\n",
        "    lucro_positivo.append(value)\n",
        "\n",
        "primeiro_lucro = lucro_positivo[0]\n",
        "primeiro_lucro"
      ],
      "metadata": {
        "colab": {
          "base_uri": "https://localhost:8080/"
        },
        "id": "sK9eynmS7KzF",
        "outputId": "07942796-6c3c-41e0-f4a6-235757749b87"
      },
      "execution_count": null,
      "outputs": [
        {
          "output_type": "execute_result",
          "data": {
            "text/plain": [
              "9.243865001554184"
            ]
          },
          "metadata": {},
          "execution_count": 75
        }
      ]
    },
    {
      "cell_type": "code",
      "source": [
        "import matplotlib.pyplot as plt\n",
        "\n",
        "plt.figure(figsize=[18, 10])\n",
        "plt.plot(lucro_mensal_array);\n",
        "plt.plot(primeiro_lucro, 'ro')"
      ],
      "metadata": {
        "colab": {
          "base_uri": "https://localhost:8080/",
          "height": 609
        },
        "id": "igwIO-Lt5spa",
        "outputId": "15366d2e-2b1b-4cbf-8d2b-85547560fdd9"
      },
      "execution_count": null,
      "outputs": [
        {
          "output_type": "execute_result",
          "data": {
            "text/plain": [
              "[<matplotlib.lines.Line2D at 0x7f7f6fe68210>]"
            ]
          },
          "metadata": {},
          "execution_count": 88
        },
        {
          "output_type": "display_data",
          "data": {
            "text/plain": [
              "<Figure size 1296x720 with 1 Axes>"
            ],
            "image/png": "[encoded data removed]"
          },
          "metadata": {
            "needs_background": "light"
          }
        }
      ]
    },
    {
      "cell_type": "markdown",
      "source": [
        "# Salário com bônus\n",
        "\n",
        "Faça um programa que leia o nome de um vendedor, o seu salário fixo e o total de vendas efetuadas por ele no mês (em dinheiro). Sabendo que este vendedor ganha 5% de comissão sobre suas vendas efetuadas, informar o total a receber no final do mês, com duas casas decimais.\n",
        "\n",
        "Entrada:\n",
        "- A entrada contém um texto (primeiro nome do vendedor) e 2 números reais com duas casas decimais, representando o salário fixo do vendedor e montante total das vendas efetuadas por este vendedor, respectivamente.\n",
        "\n",
        "Saída:\n",
        "- Seu programa deve imprimir na tela o total que o funcionário deverá receber, conforme exemplo fornecido.\n",
        "\n",
        "\n",
        "Exemplo:\n",
        "- Pedro, 500, 1234.56 -> Pedro deve receber R$ 561.73"
      ],
      "metadata": {
        "id": "lYUGjXgwdW9V"
      }
    },
    {
      "cell_type": "code",
      "source": [
        "vendedor = input('Qual o nome do vendedor? ')\n",
        "salario_fixo = float(input('Qual seu salário fixo? '))\n",
        "total_vendas_no_mes = float(input('Qual seu total de vendas efetuadas no mês (em dinheiro)? '))\n",
        "comissao = total_vendas_no_mes * 0.05   # Esse vendedor ganha 5% de comissão sobre suas vendas efetuadas\n",
        "total_a_receber_no_mes = salario_fixo + comissao\n",
        "print(vendedor, 'deve receber R$ %.2f'%total_a_receber_no_mes)"
      ],
      "metadata": {
        "colab": {
          "base_uri": "https://localhost:8080/"
        },
        "id": "N7-622x0djIs",
        "outputId": "4c965bc8-84f5-4245-c0f1-b048ab0425d1"
      },
      "execution_count": null,
      "outputs": [
        {
          "output_type": "stream",
          "name": "stdout",
          "text": [
            "Qual o nome do vendedor? Pedro\n",
            "Qual seu salário fixo? 500\n",
            "Qual seu total de vendas efetuadas no mês (em dinheiro)? 1234.56\n",
            "Pedro deve receber R$ 561.73\n"
          ]
        }
      ]
    },
    {
      "cell_type": "markdown",
      "source": [
        "# O Maior\n",
        "\n",
        "Faça um programa que leia três números inteiros e apresente o maior dos três valores. Nesta questão está proibido usar if (isto é, não deve se usar nenhuma estrutura condicional) ou a função max.\n",
        "\n",
        "Dica: A seguinte fórmula permite calcular o maior valor dados os números x e y:\n",
        "\n",
        "![image.png](data:image/png;base64,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)"
      ],
      "metadata": {
        "id": "eKxoL-Ctfvts"
      }
    },
    {
      "cell_type": "markdown",
      "source": [
        "- Entrada:\n",
        "A entrada contém três números inteiros.\n",
        "\n",
        "- Saída:\n",
        "Seu programa deve imprimir na tela o maior dos três valores, conforme exemplo fornecido."
      ],
      "metadata": {
        "id": "6jTg6aBxf3NB"
      }
    },
    {
      "cell_type": "code",
      "source": [
        "def maior_valor(x, y):\n",
        "  return (x + y) / 2 + abs(y - x) / 2"
      ],
      "metadata": {
        "id": "5mmzzsEBT8dP"
      },
      "execution_count": null,
      "outputs": []
    },
    {
      "cell_type": "code",
      "source": [
        "a = float(input())\n",
        "b = float(input())\n",
        "c = float(input())\n",
        "\n",
        "maior = maior_valor(a, b)\n",
        "maior = maior_valor(maior, c)\n",
        "\n",
        "print('O maior inteiro:', int(maior))"
      ],
      "metadata": {
        "id": "Py_0BVQSdz1c",
        "colab": {
          "base_uri": "https://localhost:8080/"
        },
        "outputId": "a672b319-6601-4ea9-ebbe-ee08530180aa"
      },
      "execution_count": null,
      "outputs": [
        {
          "output_type": "stream",
          "name": "stdout",
          "text": [
            "O maior inteiro: 12\n"
          ]
        }
      ]
    },
    {
      "cell_type": "markdown",
      "source": [
        "# Equação de 2º grau\n",
        "\n",
        "Faça um programa que leia quatro números reais a ≠ 0, b, c, x. Em seguida:\n",
        "\n",
        "i) Calcule o valor da primeira raiz:"
      ],
      "metadata": {
        "id": "FUy6m-PYUg9z"
      }
    },
    {
      "cell_type": "markdown",
      "source": [
        "![image.png](data:image/png;base64,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)"
      ],
      "metadata": {
        "id": "wzhzbW-rUl3Q"
      }
    },
    {
      "cell_type": "markdown",
      "source": [
        "ii) Calcule o valor da segunda raiz:"
      ],
      "metadata": {
        "id": "xV0N_oPFUoUn"
      }
    },
    {
      "cell_type": "markdown",
      "source": [
        "![image.png](data:image/png;base64,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)"
      ],
      "metadata": {
        "id": "fNuvmFhyUp_9"
      }
    },
    {
      "cell_type": "markdown",
      "source": [
        "iii) Calcule o valor de ax^2 + bx + c\n",
        "- Observação: suponha que a, b e c são tais que b^2 - 4ac >= 0\n",
        "\n",
        "\n",
        "- Entrada\n",
        "números reais a ≠ 0, b, c, x, tais que b^2 - 4ac >= 0\n",
        "\n",
        "- Saída\n",
        "Valores calculados em i), ii) e iii) com duas casas decimais, conforme ilustrado nos exemplos abaixo.\n",
        "\n",
        "\n",
        "Exemplo:\n",
        "- 1, -5, 6, 2:\n",
        " - raizes: 3.00 2.00\n",
        " - resultado para x = 2.00: 0.00"
      ],
      "metadata": {
        "id": "2B9eG6ZlUtTi"
      }
    },
    {
      "cell_type": "code",
      "source": [
        "import math\n",
        "\n",
        "a = float(input())\n",
        "b = float(input())\n",
        "c = float(input())\n",
        "x = float(input())\n",
        "\n",
        "primeira_raiz = (-b + math.sqrt(abs(b**2 - 4 * a * c))) / (2 * a)\n",
        "segunda_raiz = (-b - math.sqrt(abs(b**2 - 4 * a * c))) / (2 * a)\n",
        "resultado = a * x**2 + b * x + c\n",
        "print('raizes: %.2f'%primeira_raiz, '%.2f'%segunda_raiz)\n",
        "print('resultado para x = %.2f'%x + ': %.2f'%resultado)"
      ],
      "metadata": {
        "colab": {
          "base_uri": "https://localhost:8080/"
        },
        "id": "P8P3BxKBeZae",
        "outputId": "06366208-cc16-4cdf-be1e-4bc0f319ebb1"
      },
      "execution_count": null,
      "outputs": [
        {
          "output_type": "stream",
          "name": "stdout",
          "text": [
            "2\n",
            "1\n",
            "0\n",
            "3\n",
            "raizes: 0.00 -0.50\n",
            "resultado para x = 3.00: 21.00\n"
          ]
        }
      ]
    },
    {
      "cell_type": "markdown",
      "source": [
        "# Terra Plana?"
      ],
      "metadata": {
        "id": "X6EQiwFwZ7pB"
      }
    },
    {
      "cell_type": "markdown",
      "source": [
        "Eratóstenes de Cirene (Cirene, 276 a.C. - Alexandria, 194 a.C.) foi um matemático, gramático, poeta, geógrafo, bibliotecário e astrônomo da Grécia Antiga, conhecido por calcular a circunferência da Terra.\n",
        "\n",
        "Ele foi diretor da famosa Biblioteca de Alexandria e, lendo um dos manuscritos dessa instituição, tomou conhecimento de que, num determinado dia, num determinado horário, na cidade de Siena, não havia formação de sombra nos objetos, pois o sol estava no ponto mais alto do céu, com seus raios perpendiculares à superfície de Siena (neste caso, dizemos que o Sol está no zênite ou, popularmente, a pino). Este fato poderia ter passado despercebido para a maioria das pessoas, mas, intrigado, Eratóstenes resolveu checar se, neste mesmo dia e horário, o sol estaria a pino em Alexandria. Ele percebeu que não estava e a única explicação para tal discrepância seria a Terra ser redonda, pois, caso fosse plana, o sol também estaria no zênite em Alexandria.\n",
        "\n",
        "Eratóstenes percebeu que poderia calcular a circunferência da Terra fazendo um experimento em Alexandria no mesmo dia e horário em que o Sol estava no zênite em Siena. Para tanto, fincou uma estaca perpendicular ao chão de Alexandria e obteve um triângulo retângulo formado pela estaca, pela sombra no chão e pela reta que liga o fim da sombra ao topo da estaca (hipotenusa). O ângulo A formado entre a estaca e a hipotenusa é o mesmo que o ângulo entre a reta imaginária de um raio solar ao centro da Terra e a reta estendendo a estaca também ao centro da Terra. Caso Eratóstenes soubesse a distância entre Alexandria e Siena, seria possível determinar a circunferência da Terra. Ele, então, contratou um itinerante para medir a distância entre as duas cidades e constatou que a distância era de 5000 estádios. Cada estádio mede 176,4 metros. O ângulo A foi calculado e seu valor era 7,2°. Logo, 360° correspondem a 250000 estádios, isto é, 44100 km."
      ],
      "metadata": {
        "id": "wOQ2A2XaaAlZ"
      }
    },
    {
      "cell_type": "markdown",
      "source": [
        "![image.png](data:image/png;base64,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)"
      ],
      "metadata": {
        "id": "zaMHiGwjaEgc"
      }
    },
    {
      "cell_type": "markdown",
      "source": [
        "O ângulo A formado entre a estaca e a hipotenusa é o mesmo que o ângulo entre a reta imaginária de um raio solar ao centro da Terra e a reta estendendo a estaca também ao centro da Terra. Caso Eratóstenes soubesse a distância entre Alexandria e Siena, seria possível determinar a circunferência da Terra. Ele, então, contratou um itinerante para medir a distância entre as duas cidades e constatou que a distância era de 5000 estádios. Cada estádio mede 176,4 metros. O ângulo A foi calculado e seu valor era 7,2°. Logo, 360° correspondem a 250000 estádios, isto é, 44100 km."
      ],
      "metadata": {
        "id": "Hzvei7CbbkwG"
      }
    },
    {
      "cell_type": "markdown",
      "source": [
        "Escreva um programa que calcule a circunferência C de um determinado planeta, com base na observação do ângulo A, entre duas localidades C1 e C2, e na distância D, em estádios, entre elas.\n",
        "\n",
        "Suponha que as localidades estejam no mesmo meridiano de um planeta esférico. O seu programa deverá imprimir a circunferência do planeta em estádios e em quilômetros.\n",
        "\n",
        "Entrada:\n",
        "- A entrada do programa será composta da distância D e do ângulo A, respectivamente, um número em cada linha.\n",
        "\n",
        "Saída:\n",
        "- A saída deve mostrar a circunferência Ce, em estádios, e Ckm, em quilômetros, do planeta seguindo o cálculo feito por Eratóstenes para a Terra com uma casa decimal de precisão."
      ],
      "metadata": {
        "id": "83DoirCmaI-A"
      }
    },
    {
      "cell_type": "markdown",
      "source": [
        "Exemplo: \n",
        "- 5000.0, 7.2 -> 250000.0, 44100.0"
      ],
      "metadata": {
        "id": "ejUGzB_NaWwj"
      }
    },
    {
      "cell_type": "code",
      "source": [
        "D = float(input())\n",
        "A = float(input())\n",
        "\n",
        "tamanho_do_estadio = 176.4\n",
        "quantos_angulos_x_cabem = 360 / A\n",
        "Ce = quantos_angulos_x_cabem * D # circunferência em estádios\n",
        "Ckm = (Ce * tamanho_do_estadio) / 1000 # circunferência em quilômetros\n",
        "\n",
        "print('%.1f'%Ce)\n",
        "print('%.1f'%Ckm)"
      ],
      "metadata": {
        "colab": {
          "base_uri": "https://localhost:8080/"
        },
        "id": "snLzU77JZ8_b",
        "outputId": "6b79f55d-081b-46ec-b76c-3494b75b41c7"
      },
      "execution_count": null,
      "outputs": [
        {
          "output_type": "stream",
          "name": "stdout",
          "text": [
            "5000\n",
            "7.2\n",
            "250000.0\n",
            "44100.0\n"
          ]
        }
      ]
    },
    {
      "cell_type": "markdown",
      "source": [
        "# Encriptação\n",
        "\n",
        "Um aluno  projetou um método para encriptar números de 4 dígitos. O método consiste em adicionar 1 em cada dígito do número.\n",
        "\n",
        "Por exemplo:\n",
        "- O número 1234 ficaria 2345 após a encriptação;\n",
        "- O número 9092 ficaria 0103 após a encriptação.\n",
        "\n",
        "O aluno então desafiou o professor João a escrever o código desse método em Python. Você pode ajudar\n",
        "o professor a escrever esse código? Seu código não pode usar estruturas de dados auxiliares como vetor ou lista.\n",
        "\n",
        "Dica: desenvolva uma sequência de instruções com operações aritméticas, incluindo divisão inteira (//) e resto da divisão (%), de modo a obter cada um dos dígitos e somar 1 a eles.\n",
        "\n",
        "Entrada:\n",
        "- A entrada contém um número de 4 dígitos\n",
        "\n",
        "Saída:\n",
        "- Seu programa deve imprimir na tela um número de 4 dígitos encriptado\n",
        "\n",
        "Exemplo:\n",
        "- 1234 -> 2345\n",
        "- 9092 -> 0103\n",
        "- 7238 -> 8349\n",
        "- 0791 -> 1802"
      ],
      "metadata": {
        "id": "5Mq9PncnfDir"
      }
    },
    {
      "cell_type": "code",
      "source": [
        "numero = input()\n",
        "novo_numero = ''\n",
        "\n",
        "for n in numero:\n",
        "  if n == '9':\n",
        "    novo_numero = novo_numero + '0'\n",
        "  else:\n",
        "    n = str(int(n) + 1)\n",
        "    novo_numero = novo_numero + n\n",
        "\n",
        "print(novo_numero)"
      ],
      "metadata": {
        "colab": {
          "base_uri": "https://localhost:8080/",
          "height": 53
        },
        "id": "XwWLBjeBfQua",
        "outputId": "952d3a77-d90b-4056-9477-03696a82b2c7"
      },
      "execution_count": null,
      "outputs": [
        {
          "name": "stdout",
          "output_type": "stream",
          "text": [
            "9092\n"
          ]
        },
        {
          "output_type": "execute_result",
          "data": {
            "text/plain": [
              "'0103'"
            ],
            "application/vnd.google.colaboratory.intrinsic+json": {
              "type": "string"
            }
          },
          "metadata": {},
          "execution_count": 86
        }
      ]
    },
    {
      "cell_type": "markdown",
      "source": [
        "# Cédulas\n",
        "\n",
        "Faça um programa que leia um valor inteiro representando um valor em reais e calcule o menor número de cédulas possíveis no qual o valor pode ser decomposto. As cédulas consideradas são as de R$100.00, R$50.00, R$20.00, R$10.00, R$5.00, R$2.00 e R$1.00. Seu programa deve imprimir a quantidade de cada cédula.\n",
        "\n",
        "Dica: desenvolva uma sequência de instruções com operações aritméticas, incluindo divisão inteira (//) para obter as quantidades de cédulas na ordem decrescente de valores de notas.\n",
        "\n",
        "Entrada:\n",
        "- um número inteiro maior ou igual a zero\n",
        "\n",
        "Saída:\n",
        "- uma sequência de caracteres (string) representando a quantidade de notas de cada cédulas, no formato \"X100 de 100, X50 de 50, X20 de 20, X10 de 10, X5 de 5, X2 de 2, X1 de 1\""
      ],
      "metadata": {
        "id": "DcmiINephbTj"
      }
    },
    {
      "cell_type": "markdown",
      "source": [
        "Exemplo:\n",
        "- Entrada: 1791\n",
        "- Saída: 17 de 100, 1 de 50, 2 de 20, 0 de 10, 0 de 5, 0 de 2, 1 de 1"
      ],
      "metadata": {
        "id": "57eBWnPJhgFb"
      }
    },
    {
      "cell_type": "code",
      "source": [
        "reais = int(abs(float(input())))\n",
        "\n",
        "# 100, 50, 20, 10, 5, 2, 1\n",
        "notas_de_cem = reais // 100\n",
        "novo_valor = reais - notas_de_cem * 100\n",
        "notas_de_cinquenta = novo_valor // 50\n",
        "novo_valor = novo_valor - notas_de_cinquenta * 50\n",
        "notas_de_vinte = novo_valor // 20\n",
        "novo_valor = novo_valor - notas_de_vinte * 20\n",
        "notas_de_dez = novo_valor // 10\n",
        "novo_valor = novo_valor - notas_de_dez * 10\n",
        "notas_de_cinco = novo_valor // 5\n",
        "novo_valor = novo_valor - notas_de_cinco * 5\n",
        "notas_de_dois = novo_valor // 2\n",
        "novo_valor = novo_valor - notas_de_dois * 2\n",
        "notas_de_um = novo_valor // 1\n",
        "\n",
        "\n",
        "print(f'{notas_de_cem} de 100, {notas_de_cinquenta} de 50, {notas_de_vinte} de 20, {notas_de_dez} de 10, {notas_de_cinco} de 5, {notas_de_dois} de 2, {notas_de_um} de 1')"
      ],
      "metadata": {
        "colab": {
          "base_uri": "https://localhost:8080/"
        },
        "id": "_sR9XIsaheE0",
        "outputId": "911cd797-ac6b-4b3d-b3cc-090661ccaac9"
      },
      "execution_count": null,
      "outputs": [
        {
          "output_type": "stream",
          "name": "stdout",
          "text": [
            "9090.90\n",
            "90 de 100, 1 de 50, 2 de 20, 0 de 10, 0 de 5, 0 de 2, 0 de 1\n"
          ]
        }
      ]
    },
    {
      "cell_type": "code",
      "source": [
        "10*0"
      ],
      "metadata": {
        "colab": {
          "base_uri": "https://localhost:8080/"
        },
        "id": "4Xg8mHsPitC4",
        "outputId": "a20b05cb-2ab7-4bfb-ce1c-2154c598c734"
      },
      "execution_count": null,
      "outputs": [
        {
          "output_type": "execute_result",
          "data": {
            "text/plain": [
              "0"
            ]
          },
          "metadata": {},
          "execution_count": 96
        }
      ]
    }
  ]
}